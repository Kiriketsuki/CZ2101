{
 "cells": [
  {
   "cell_type": "code",
   "execution_count": 14,
   "metadata": {},
   "outputs": [
    {
     "name": "stdout",
     "output_type": "stream",
     "text": [
      "16\n"
     ]
    }
   ],
   "source": [
    "# https://www.geeksforgeeks.org/unbounded-knapsack-repetition-items-allowed/\n",
    "# USED TO CHECK ANS \n",
    "\n",
    "def unboundedKnapsack(W, n, val, wt):\n",
    " \n",
    "    # dp[i] is going to store maximum\n",
    "    # value with knapsack capacity i.\n",
    "    dp = [0 for i in range(W + 1)]\n",
    " \n",
    "    ans = 0\n",
    " \n",
    "    # Fill dp[] using above recursive formula\n",
    "    for i in range(W + 1):\n",
    "        for j in range(n):\n",
    "            if (wt[j] <= i):\n",
    "                dp[i] = max(dp[i], dp[i - wt[j]] + val[j])\n",
    " \n",
    "    return dp[C]\n",
    " \n",
    "# Driver program\n",
    "W = 14\n",
    "wt = [5, 6, 8]\n",
    "val = [7, 6, 9]\n",
    "n = 3\n",
    " \n",
    "print(unboundedKnapsack(W, n, val, wt))"
   ]
  },
  {
   "cell_type": "code",
   "execution_count": 15,
   "metadata": {},
   "outputs": [],
   "source": [
    "\n",
    "def knapsack(W, P, C, n):\n",
    "    table = [[0 for i in range(C + 1)] for j in range(n +1)]\n",
    "\n",
    "    for i in range(1, n+1):\n",
    "        # print(\"Item = \", item, end = \" \")\n",
    "        for j in range (C+1):\n",
    "            \n",
    "            # print(j)\n",
    "            prev_value = table[i-1][j]\n",
    "            # if j >= item:\n",
    "            #     toInclude = table[i][j - item]\n",
    "            # else:\n",
    "            #     toInclude = 0\n",
    "\n",
    "            if j < W[i-1]:\n",
    "                table[i][j] = prev_value\n",
    "            else:\n",
    "                # print(\"Profit = \" ,P[i], end = \" \")\n",
    "                table[i][j] = max(table[i-1][j], table[i][j - W[i-1]] + P[i-1])\n",
    "            # print(\"Value inserted = \", table[i][j]\n",
    "    return table \n",
    "\n",
    "\n",
    "\n",
    "# Returns an array where the index represents the item number        \n",
    "def solution_set(table, n, C, W):\n",
    "    i = n\n",
    "    j = C\n",
    "    index = n - 1\n",
    "    solution_set = [0 for x in range(n)]\n",
    "    \n",
    "    while (i > 0 and j > 0):\n",
    "        # print(i, j)\n",
    "        if (table[i][j] == table[i-1][j]):\n",
    "            index -= 1\n",
    "            i -= 1\n",
    "        else:\n",
    "            solution_set[index] = j // W[i-1]\n",
    "            index -= 1\n",
    "            i -= 1 \n",
    "            j -= W[i-1]\n",
    "\n",
    "    return solution_set"
   ]
  },
  {
   "cell_type": "code",
   "execution_count": 16,
   "metadata": {},
   "outputs": [
    {
     "name": "stdout",
     "output_type": "stream",
     "text": [
      "Profit =  21\n",
      "0: [0, 0, 0, 0, 0, 0, 0, 0, 0, 0, 0, 0, 0, 0, 0]\n",
      "1: [0, 0, 0, 0, 7, 7, 7, 7, 14, 14, 14, 14, 21, 21, 21]\n",
      "2: [0, 0, 0, 0, 7, 7, 7, 7, 14, 14, 14, 14, 21, 21, 21]\n",
      "3: [0, 0, 0, 0, 7, 7, 7, 7, 14, 14, 14, 14, 21, 21, 21]\n",
      "Solution Set =  [3, 0, 0]\n"
     ]
    }
   ],
   "source": [
    "# (2) \n",
    "\n",
    "C = 14\n",
    "W = [4, 6, 8]\n",
    "P = [7, 6, 9]\n",
    "n = 3\n",
    "\n",
    "table = (knapsack(W, P, C, n))\n",
    " \n",
    "print(\"Profit = \", table[n][C])\n",
    "for i in range(n+1):\n",
    "    print(i, end = \": \")\n",
    "    print(table[i])\n",
    "\n",
    "solution = solution_set(table, n, C, W)\n",
    "print(\"Solution Set = \", solution)   \n"
   ]
  },
  {
   "cell_type": "code",
   "execution_count": 17,
   "metadata": {},
   "outputs": [
    {
     "name": "stdout",
     "output_type": "stream",
     "text": [
      "Profit =  16\n",
      "0: [0, 0, 0, 0, 0, 0, 0, 0, 0, 0, 0, 0, 0, 0, 0]\n",
      "1: [0, 0, 0, 0, 0, 7, 7, 7, 7, 7, 14, 14, 14, 14, 14]\n",
      "2: [0, 0, 0, 0, 0, 7, 7, 7, 7, 7, 14, 14, 14, 14, 14]\n",
      "3: [0, 0, 0, 0, 0, 7, 7, 7, 9, 9, 14, 14, 14, 16, 16]\n",
      "Solution Set =  [1, 0, 1]\n"
     ]
    }
   ],
   "source": [
    "C = 14\n",
    "W = [5, 6, 8]\n",
    "P = [7, 6, 9]\n",
    "n = 3\n",
    "\n",
    "table = (knapsack(W, P, C, n))\n",
    " \n",
    "print(\"Profit = \", table[n][C])\n",
    "for i in range(n+1):\n",
    "    print(i, end = \": \")\n",
    "    print(table[i])\n",
    "\n",
    "solution = solution_set(table, n, C, W)\n",
    "print(\"Solution Set = \", solution)    "
   ]
  }
 ],
 "metadata": {
  "interpreter": {
   "hash": "0f1da08872461da9cd923e1a0d9d82c00724eb9b5cc800c56f8cdbf609820a25"
  },
  "kernelspec": {
   "display_name": "Python 3.8.5 64-bit ('base': conda)",
   "name": "python3"
  },
  "language_info": {
   "codemirror_mode": {
    "name": "ipython",
    "version": 3
   },
   "file_extension": ".py",
   "mimetype": "text/x-python",
   "name": "python",
   "nbconvert_exporter": "python",
   "pygments_lexer": "ipython3",
   "version": "3.8.5"
  },
  "orig_nbformat": 4
 },
 "nbformat": 4,
 "nbformat_minor": 2
}
