{
 "cells": [
  {
   "cell_type": "code",
   "execution_count": 20,
   "metadata": {},
   "outputs": [
    {
     "name": "stdout",
     "output_type": "stream",
     "text": [
      "Total profit: 10\n",
      "[0, 0, 0, 0, 0, 0, 0, 0, 0, 0, 0, 0, 0, 0, 0]\n",
      "[0, -1, -1, -1, -1, -1, -1, 4, 4, 4, 4, 4, 4, 4, 4]\n",
      "[0, -1, -1, -1, -1, -1, 6, 5, 5, 5, 5, 5, 5, 10, 10]\n",
      "[0, -1, -1, -1, -1, -1, -1, -1, -1, 8, 7, 7, 7, 10, 10]\n"
     ]
    },
    {
     "ename": "IndexError",
     "evalue": "list index out of range",
     "output_type": "error",
     "traceback": [
      "\u001b[1;31m---------------------------------------------------------------------------\u001b[0m",
      "\u001b[1;31mIndexError\u001b[0m                                Traceback (most recent call last)",
      "\u001b[1;32m<ipython-input-20-3992c74666fa>\u001b[0m in \u001b[0;36m<module>\u001b[1;34m\u001b[0m\n\u001b[0;32m     25\u001b[0m \u001b[1;33m\u001b[0m\u001b[0m\n\u001b[0;32m     26\u001b[0m \u001b[1;32mfor\u001b[0m \u001b[0mi\u001b[0m \u001b[1;32min\u001b[0m \u001b[0mrange\u001b[0m\u001b[1;33m(\u001b[0m\u001b[0mC\u001b[0m\u001b[1;33m)\u001b[0m\u001b[1;33m:\u001b[0m\u001b[1;33m\u001b[0m\u001b[1;33m\u001b[0m\u001b[0m\n\u001b[1;32m---> 27\u001b[1;33m     \u001b[0mprint\u001b[0m\u001b[1;33m(\u001b[0m\u001b[0msolution_table\u001b[0m\u001b[1;33m[\u001b[0m\u001b[0mi\u001b[0m\u001b[1;33m]\u001b[0m\u001b[1;33m)\u001b[0m\u001b[1;33m\u001b[0m\u001b[1;33m\u001b[0m\u001b[0m\n\u001b[0m",
      "\u001b[1;31mIndexError\u001b[0m: list index out of range"
     ]
    }
   ],
   "source": [
    "def knapsack_DP(C, w, v, n):\n",
    "    # Initially filling the table with 0s \n",
    "    dp = [[-1 for x in range(C+1)] for x in range(n+1)]\n",
    "\n",
    "    # Builidng the table dp[][] using the formula \n",
    "    for i in range(n + 1):\n",
    "        for j in range(C + 1):\n",
    "            if i == 0 or j == 0:\n",
    "                dp[i][j] = 0\n",
    "            elif w[i-1] <= j:\n",
    "                dp[i][j] = max(dp[i-1][j], dp[i-1][j-w[i-1]] + v[i-1])\n",
    "            else:\n",
    "                dp[i][j] = dp[i-1][j]\n",
    "\n",
    "    return dp\n",
    "\n",
    "\n",
    "p = [4, 6, 8]\n",
    "w = [7, 6, 9]\n",
    "C = 14\n",
    "n = 3\n",
    "\n",
    "solution_table = knapsack_DP(C, w, p, n)\n",
    "\n",
    "print(\"Total profit:\", solution_table[n-1][C-1])\n",
    "\n",
    "for i in range(C):\n",
    "    print(solution_table[i])"
   ]
  },
  {
   "cell_type": "code",
   "execution_count": 80,
   "metadata": {},
   "outputs": [
    {
     "name": "stdout",
     "output_type": "stream",
     "text": [
      "[0, 0, 0, 0, 7, 7, 7, 7, 14, 14, 14, 14, 21, 21, 21]\n"
     ]
    }
   ],
   "source": [
    "def unboundedKnapsack(W, n, val, wt):\n",
    " \n",
    "    # dp[i] is going to store maximum\n",
    "    # value with knapsack capacity i.\n",
    "    dp = [0 for i in range(W + 1)]\n",
    " \n",
    "    ans = 0\n",
    " \n",
    "    # Fill dp[] using above recursive formula\n",
    "    for i in range(W + 1):\n",
    "        for j in range(n):\n",
    "            if (wt[j] <= i):\n",
    "                dp[i] = max(dp[i], dp[i - wt[j]] + val[j])\n",
    " \n",
    "    return dp\n",
    " \n",
    "# Driver program\n",
    "W = 14\n",
    "wt = [4, 6, 8]\n",
    "val = [7, 6, 9]\n",
    "n = 3\n",
    " \n",
    "print(unboundedKnapsack(W, n, val, wt))"
   ]
  },
  {
   "cell_type": "code",
   "execution_count": 153,
   "metadata": {},
   "outputs": [],
   "source": [
    "# W and P are arrays \n",
    "def knapsack(W, P, C, n):\n",
    "    table = [[0 for i in range(C + 1)] for j in range(n +1)]\n",
    "\n",
    "    for i in range(1, n+1):\n",
    "        item = W[i-1]\n",
    "        # print(\"Item = \", item, end = \" \")\n",
    "        for j in range (C+1):\n",
    "            \n",
    "            # print(j)\n",
    "            prev_value = table[i-1][j]\n",
    "            if j >= item:\n",
    "                prev_row_weight_diff = table[i][j - item]\n",
    "            else:\n",
    "                prev_row_weight_diff = 0\n",
    "\n",
    "            if j < item:\n",
    "                table[i][j] = prev_value\n",
    "            else:\n",
    "                # print(\"Profit = \" ,P[i], end = \" \")\n",
    "                table[i][j] = max(prev_value, prev_row_weight_diff + P[i-1])\n",
    "            # print(\"Value inserted = \", table[i][j]\n",
    "    return table \n",
    "\n",
    "\n",
    "        \n",
    "def solution_set(table, n, C, W):\n",
    "    i = n\n",
    "    j = C\n",
    "    index = n - 1\n",
    "    solution_set = [0 for x in range(n)]\n",
    "    \n",
    "    while (i > 0 and j > 0):\n",
    "        # print(i, j)\n",
    "        if (table[i][j] == table[i-1][j]):\n",
    "            index -= 1\n",
    "            i -= 1\n",
    "        else:\n",
    "            solution_set[index] += 1\n",
    "            index -= 1\n",
    "            i -= 1 \n",
    "            j -= W[i]\n",
    "\n",
    "    return solution_set"
   ]
  },
  {
   "cell_type": "code",
   "execution_count": 152,
   "metadata": {},
   "outputs": [
    {
     "name": "stdout",
     "output_type": "stream",
     "text": [
      "Profit =  21\n",
      "0: [0, 0, 0, 0, 0, 0, 0, 0, 0, 0, 0, 0, 0, 0, 0]\n",
      "1: [0, 0, 0, 0, 7, 7, 7, 7, 14, 14, 14, 14, 21, 21, 21]\n",
      "2: [0, 0, 0, 0, 7, 7, 7, 7, 14, 14, 14, 14, 21, 21, 21]\n",
      "3: [0, 0, 0, 0, 7, 7, 7, 7, 14, 14, 14, 14, 21, 21, 21]\n",
      "Solution Set =  [1, 0, 0]\n"
     ]
    }
   ],
   "source": [
    "# (2) \n",
    "\n",
    "C = 14\n",
    "W = [4, 6, 8]\n",
    "P = [7, 6, 9]\n",
    "n = 3\n",
    "\n",
    "table = (knapsack(W, P, C, n))\n",
    " \n",
    "print(\"Profit = \", table[n][C])\n",
    "for i in range(n+1):\n",
    "    print(i, end = \": \")\n",
    "    print(table[i])\n",
    "\n",
    "solution = solution_set(table, n, C, W)\n",
    "print(\"Solution Set = \", solution)   \n"
   ]
  },
  {
   "cell_type": "code",
   "execution_count": 154,
   "metadata": {},
   "outputs": [
    {
     "name": "stdout",
     "output_type": "stream",
     "text": [
      "Profit =  16\n",
      "0: [0, 0, 0, 0, 0, 0, 0, 0, 0, 0, 0, 0, 0, 0, 0]\n",
      "1: [0, 0, 0, 0, 0, 7, 7, 7, 7, 7, 14, 14, 14, 14, 14]\n",
      "2: [0, 0, 0, 0, 0, 7, 7, 7, 7, 7, 14, 14, 14, 14, 14]\n",
      "3: [0, 0, 0, 0, 0, 7, 7, 7, 9, 9, 14, 14, 14, 16, 16]\n",
      "Solution Set =  [1, 0, 1]\n"
     ]
    }
   ],
   "source": [
    "C = 14\n",
    "W = [5, 6, 8]\n",
    "P = [7, 6, 9]\n",
    "n = 3\n",
    "\n",
    "table = (knapsack(W, P, C, n))\n",
    " \n",
    "print(\"Profit = \", table[n][C])\n",
    "for i in range(n+1):\n",
    "    print(i, end = \": \")\n",
    "    print(table[i])\n",
    "\n",
    "solution = solution_set(table, n, C, W)\n",
    "print(\"Solution Set = \", solution)    "
   ]
  }
 ],
 "metadata": {
  "interpreter": {
   "hash": "0f1da08872461da9cd923e1a0d9d82c00724eb9b5cc800c56f8cdbf609820a25"
  },
  "kernelspec": {
   "display_name": "Python 3.8.5 64-bit ('base': conda)",
   "name": "python3"
  },
  "language_info": {
   "codemirror_mode": {
    "name": "ipython",
    "version": 3
   },
   "file_extension": ".py",
   "mimetype": "text/x-python",
   "name": "python",
   "nbconvert_exporter": "python",
   "pygments_lexer": "ipython3",
   "version": "3.8.5"
  },
  "orig_nbformat": 4
 },
 "nbformat": 4,
 "nbformat_minor": 2
}
