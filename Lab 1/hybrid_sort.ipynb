{
 "cells": [
  {
   "cell_type": "code",
   "execution_count": 1,
   "source": [
    "import time\r\n",
    "import numpy as np \r\n",
    "import random"
   ],
   "outputs": [],
   "metadata": {}
  },
  {
   "cell_type": "markdown",
   "source": [
    "# Insertion Sort"
   ],
   "metadata": {}
  },
  {
   "cell_type": "code",
   "execution_count": 2,
   "source": [
    "def insertion_sort(array):\r\n",
    "\r\n",
    "    for step in range(1, len(array)):\r\n",
    "        key = array[step]\r\n",
    "        j = step - 1\r\n",
    "        \r\n",
    "        # Compare the element with the ones before it\r\n",
    "        # If it is smaller than the ones before it, then move the larger ones to current position \r\n",
    "        while j >= 0 and key < array[j]:\r\n",
    "            array[j + 1] = array[j]\r\n",
    "            j = j - 1\r\n",
    "        \r\n",
    "        # Once an element smaller than it is found \r\n",
    "        # Place key at after it\r\n",
    "        array[j + 1] = key\r\n",
    "    \r\n",
    "    return array \r\n"
   ],
   "outputs": [],
   "metadata": {}
  },
  {
   "cell_type": "markdown",
   "source": [
    "# Merge Sort"
   ],
   "metadata": {}
  },
  {
   "cell_type": "code",
   "execution_count": 3,
   "source": [
    "def mergesort(array):\r\n",
    "\r\n",
    "    # If the array only got 1 element \r\n",
    "    if (len(array) > 1):\r\n",
    "        mid = len(array) // 2 \r\n",
    "        left = array[:mid].copy()\r\n",
    "        right = array[mid:].copy()\r\n",
    "\r\n",
    "        mergesort(left)\r\n",
    "        # print(left, right)\r\n",
    "        mergesort(right)\r\n",
    "        \r\n",
    "        merge(array, left, right)\r\n",
    "    \r\n",
    "    return array\r\n",
    "    \r\n",
    "\r\n",
    "def merge(array, left, right):\r\n",
    "    \r\n",
    "\r\n",
    "    i = j = k = 0\r\n",
    "    \r\n",
    "    # while length of both right and left are not 0 z\r\n",
    "    while(i < len(left) and j < len(right)):\r\n",
    "        # compare first element of the 2 halves \r\n",
    "        if(left[i] < right[j]):\r\n",
    "            array[k] = left[i]                \r\n",
    "            i += 1\r\n",
    "            k += 1\r\n",
    "        else:\r\n",
    "            array[k] = right[j]\r\n",
    "            j += 1\r\n",
    "            k += 1 \r\n",
    "\r\n",
    "    # If there are still remaining elements in either half \r\n",
    "    while (i < len(left)):\r\n",
    "        array[k] = left[i]\r\n",
    "        i += 1\r\n",
    "        k += 1\r\n",
    "\r\n",
    "    while (j < len(right)):\r\n",
    "        array[k] = right[j]\r\n",
    "        k += 1\r\n",
    "        j += 1\r\n",
    "    \r\n",
    "    return array"
   ],
   "outputs": [],
   "metadata": {}
  },
  {
   "cell_type": "markdown",
   "source": [
    "# Hybrid Algorithm"
   ],
   "metadata": {}
  },
  {
   "cell_type": "code",
   "execution_count": 33,
   "source": [
    "def hybrid_sort(array, S):\r\n",
    "    if (len(array) <= S):\r\n",
    "        insertion_sort(array)\r\n",
    "    else:\r\n",
    "        mid = len(array) // 2 \r\n",
    "        left = array[:mid].copy()\r\n",
    "        right = array[mid:].copy()\r\n",
    "\r\n",
    "        mergesort(left)\r\n",
    "        mergesort(right)\r\n",
    "\r\n",
    "        merge(array, left, right)\r\n",
    "\r\n",
    "    return array "
   ],
   "outputs": [],
   "metadata": {}
  },
  {
   "cell_type": "markdown",
   "source": [
    "# Testing"
   ],
   "metadata": {}
  },
  {
   "cell_type": "markdown",
   "source": [
    "Creating Random Arrays"
   ],
   "metadata": {}
  },
  {
   "cell_type": "code",
   "execution_count": 76,
   "source": [
    "array_test_0 = np.array(np.random.randint(10, size = 10))\r\n",
    "array_correct_0 = np.array(sorted(array_test_0)) # to compare against our implemented algorithms to make sure they work\r\n",
    "\r\n",
    "array_test_1 = np.array(np.random.randint(10, size = 100))\r\n",
    "array_correct_1 = np.array(sorted(array_test_1))\r\n",
    "\r\n",
    "array_test_2 = np.array(np.random.randint(10, size = 1000))\r\n",
    "array_correct_2 = np.array(sorted(array_test_2))\r\n",
    "\r\n",
    "array_test_3 = np.array(np.random.randint(10, size = 10000))\r\n",
    "array_correct_3 = np.array(sorted(array_test_3))\r\n",
    "\r\n",
    "array_test_4 = np.array(np.random.randint(10, size = 100000))\r\n",
    "array_correct_4 = np.array(sorted(array_test_4))\r\n",
    "\r\n",
    "array_test_5 = np.array(np.random.randint(10, size = 1000000))\r\n",
    "array_correct_5 = np.array(sorted(array_test_5))\r\n",
    "\r\n",
    "array_test_6 = np.array(np.random.randint(10, size = 10000000))\r\n",
    "array_correct_6 = np.array(sorted(array_test_6))"
   ],
   "outputs": [],
   "metadata": {}
  },
  {
   "cell_type": "markdown",
   "source": [
    "### Testing Hybrid Sort VS Merge Sort \r\n",
    "- For array sizes 10, 100, 1000, 10000"
   ],
   "metadata": {}
  },
  {
   "cell_type": "code",
   "execution_count": 82,
   "source": [
    "for i in range(5):\r\n",
    "    timer = time.perf_counter()\r\n",
    "    test = hybrid_sort(np.copy(eval(f\"array_test_{i}\")), 7)\r\n",
    "    array_size = len(eval(f\"array_test_{i}\"))\r\n",
    "    print(f\"Time to sort array of size {array_size} is {time.perf_counter() - timer} seconds\")\r\n",
    "    if np.array_equal(test, eval(f\"array_correct_{i}\")):\r\n",
    "        print(f\"Hybrid sorted correctly\")\r\n",
    "        \r\n",
    "    timer = time.perf_counter()\r\n",
    "    test = mergesort(np.copy(eval(f\"array_test_{i}\")))\r\n",
    "    array_size = len(eval(f\"array_test_{i}\"))\r\n",
    "    print(f\"Time to sort array of size {array_size} is {time.perf_counter() - timer} seconds\")\r\n",
    "    if np.array_equal(test, eval(f\"array_correct_{i}\")):\r\n",
    "        print(f\"Merge sorted correctly \\n\")"
   ],
   "outputs": [
    {
     "output_type": "stream",
     "name": "stdout",
     "text": [
      "Time to sort array of size 10 is 0.0001823999991756864 seconds\n",
      "Hybrid sorted correctly\n",
      "Time to sort array of size 10 is 0.0002447000006213784 seconds\n",
      "Merge sorted correctly \n",
      "\n",
      "Time to sort array of size 100 is 0.0020479000013438053 seconds\n",
      "Hybrid sorted correctly\n",
      "Time to sort array of size 100 is 0.0019839999949908815 seconds\n",
      "Merge sorted correctly \n",
      "\n",
      "Time to sort array of size 1000 is 0.01601739999750862 seconds\n",
      "Hybrid sorted correctly\n",
      "Time to sort array of size 1000 is 0.010624900001857895 seconds\n",
      "Merge sorted correctly \n",
      "\n",
      "Time to sort array of size 10000 is 0.12168699999892851 seconds\n",
      "Hybrid sorted correctly\n",
      "Time to sort array of size 10000 is 0.11350189999939175 seconds\n",
      "Merge sorted correctly \n",
      "\n",
      "Time to sort array of size 100000 is 1.2347642999957316 seconds\n",
      "Hybrid sorted correctly\n",
      "Time to sort array of size 100000 is 1.291285200000857 seconds\n",
      "Merge sorted correctly \n",
      "\n"
     ]
    }
   ],
   "metadata": {}
  },
  {
   "cell_type": "markdown",
   "source": [
    "### Testing for an array size of 1 million"
   ],
   "metadata": {}
  },
  {
   "cell_type": "code",
   "execution_count": 84,
   "source": [
    "    timer = time.perf_counter()\r\n",
    "    test = hybrid_sort(np.copy(array_test_6), 7)\r\n",
    "    array_size = len(array_test_6)\r\n",
    "    print(f\"Time to sort array of size {array_size} is {time.perf_counter() - timer} seconds\")\r\n",
    "    if np.array_equal(test, array_correct_6):\r\n",
    "        print(f\"Hybrid sorted correctly\")\r\n",
    "        \r\n",
    "    timer = time.perf_counter()\r\n",
    "    test = mergesort(np.copy(array_test_6))\r\n",
    "    array_size = len(array_test_6)\r\n",
    "    print(f\"Time to sort array of size {array_size} is {time.perf_counter() - timer} seconds\")\r\n",
    "    if np.array_equal(test, array_correct_6):\r\n",
    "        print(f\"Merge sorted correctly \\n\")"
   ],
   "outputs": [
    {
     "output_type": "stream",
     "name": "stdout",
     "text": [
      "Time to sort array of size 10000000 is 175.6329906999963 seconds\n",
      "Hybrid sorted correctly\n",
      "Time to sort array of size 10000000 is 176.59346269999514 seconds\n",
      "Merge sorted correctly \n",
      "\n"
     ]
    }
   ],
   "metadata": {}
  },
  {
   "cell_type": "markdown",
   "source": [
    "### Best, Worst and Avg Case (Taking array size of 1000)\r\n",
    "- Best Case: Already sorted \r\n",
    "- Worst Case: Reverse sorted \r\n",
    "- Avg Case: Randomly generated array"
   ],
   "metadata": {}
  },
  {
   "cell_type": "code",
   "execution_count": 94,
   "source": [
    "# Sample Test Cases (Using Array size of 1000)\r\n",
    "\r\n",
    "# Best Case --> Array already sorted \r\n",
    "avg_case = np.array(np.random.randint(10, size = 1000))\r\n",
    "best_case = np.array(sorted(avg_case))\r\n",
    "worst_case = np.flip(best_case)\r\n",
    "\r\n",
    "\r\n",
    "print(\"==== TESTING BEST CASE ====\")\r\n",
    "\r\n",
    "timer = time.perf_counter()\r\n",
    "test = mergesort(np.copy(best_case))\r\n",
    "print(f\"Time to sort array of size {len(best_case)} is {time.perf_counter() - timer} seconds\")\r\n",
    "if np.array_equal(test, best_case):\r\n",
    "    print(f\"Merge sorted correctly \\n\")\r\n",
    "\r\n",
    "\r\n",
    "timer = time.perf_counter()\r\n",
    "test = hybrid_sort(np.copy(best_case), 7)\r\n",
    "print(f\"Time to sort array of size {len(best_case)} is {time.perf_counter() - timer} seconds\")\r\n",
    "if np.array_equal(test, best_case):\r\n",
    "    print(f\"Hybrid sorted correctly \\n\")\r\n",
    "\r\n",
    "\r\n",
    "print(\"==== TESTING WORST CASE ====\")\r\n",
    "\r\n",
    "\r\n",
    "timer = time.perf_counter()\r\n",
    "test = mergesort(np.copy(worst_case))\r\n",
    "print(f\"Time to sort array of size {len(best_case)} is {time.perf_counter() - timer} seconds\")\r\n",
    "if np.array_equal(test, best_case):\r\n",
    "    print(f\"Merge sorted correctly \\n\")\r\n",
    "\r\n",
    "\r\n",
    "timer = time.perf_counter()\r\n",
    "test = hybrid_sort(np.copy(worst_case), 7)\r\n",
    "print(f\"Time to sort array of size {len(best_case)} is {time.perf_counter() - timer} seconds\")\r\n",
    "if np.array_equal(test, best_case):\r\n",
    "    print(f\"Hybrid sorted correctly \\n\")\r\n",
    "\r\n",
    "\r\n",
    "print(\"==== TESTING AVERAGE CASE ====\")\r\n",
    "\r\n",
    "\r\n",
    "timer = time.perf_counter()\r\n",
    "test = mergesort(np.copy(avg_case))\r\n",
    "print(f\"Time to sort array of size {len(best_case)} is {time.perf_counter() - timer} seconds\")\r\n",
    "if np.array_equal(test, best_case):\r\n",
    "    print(f\"Merge sorted correctly \\n\")\r\n",
    "\r\n",
    "\r\n",
    "timer = time.perf_counter()\r\n",
    "test = hybrid_sort(np.copy(avg_case), 7)\r\n",
    "print(f\"Time to sort array of size {len(best_case)} is {time.perf_counter() - timer} seconds\")\r\n",
    "if np.array_equal(test, best_case):\r\n",
    "    print(f\"Hybrid sorted correctly \\n\")"
   ],
   "outputs": [
    {
     "output_type": "stream",
     "name": "stdout",
     "text": [
      "==== TESTING BEST CASE ====\n",
      "Time to sort array of size 1000 is 0.010883800001465715 seconds\n",
      "Merge sorted correctly \n",
      "\n",
      "Time to sort array of size 1000 is 0.010043199996289331 seconds\n",
      "Hybrid sorted correctly \n",
      "\n",
      "==== TESTING WORST CASE ====\n",
      "Time to sort array of size 1000 is 0.008283199997094925 seconds\n",
      "Merge sorted correctly \n",
      "\n",
      "Time to sort array of size 1000 is 0.008177000003342982 seconds\n",
      "Hybrid sorted correctly \n",
      "\n",
      "==== TESTING AVERAGE CASE ====\n",
      "Time to sort array of size 1000 is 0.007704199997533578 seconds\n",
      "Merge sorted correctly \n",
      "\n",
      "Time to sort array of size 1000 is 0.009088699996937066 seconds\n",
      "Hybrid sorted correctly \n",
      "\n"
     ]
    }
   ],
   "metadata": {}
  }
 ],
 "metadata": {
  "orig_nbformat": 4,
  "language_info": {
   "name": "python",
   "version": "3.8.5",
   "mimetype": "text/x-python",
   "codemirror_mode": {
    "name": "ipython",
    "version": 3
   },
   "pygments_lexer": "ipython3",
   "nbconvert_exporter": "python",
   "file_extension": ".py"
  },
  "kernelspec": {
   "name": "python3",
   "display_name": "Python 3.8.5 64-bit"
  },
  "interpreter": {
   "hash": "0f1da08872461da9cd923e1a0d9d82c00724eb9b5cc800c56f8cdbf609820a25"
  }
 },
 "nbformat": 4,
 "nbformat_minor": 2
}