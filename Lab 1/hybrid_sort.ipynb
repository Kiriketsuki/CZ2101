{
 "cells": [
  {
   "cell_type": "code",
   "execution_count": 1,
   "source": [
    "import time\r\n",
    "import numpy as np \r\n",
    "import random\r\n",
    "import math "
   ],
   "outputs": [],
   "metadata": {}
  },
  {
   "cell_type": "markdown",
   "source": [
    "# Original Insertion Sort"
   ],
   "metadata": {}
  },
  {
   "cell_type": "code",
   "execution_count": 2,
   "source": [
    "def insertion_sort(array):\r\n",
    "    key_comparison = 0\r\n",
    "\r\n",
    "    for step in range(1, len(array)):\r\n",
    "        key = array[step]\r\n",
    "        j = step - 1\r\n",
    "        \r\n",
    "        # Compare the element with the ones before it\r\n",
    "        # If it is smaller than the ones before it, then move the larger ones to current position \r\n",
    "        while j >= 0 and key < array[j]:\r\n",
    "            array[j + 1] = array[j]\r\n",
    "            j = j - 1\r\n",
    "        \r\n",
    "        # Once an element smaller than it is found \r\n",
    "        # Place key at after it\r\n",
    "        array[j + 1] = key\r\n",
    "    \r\n",
    "    return array\r\n"
   ],
   "outputs": [],
   "metadata": {}
  },
  {
   "cell_type": "markdown",
   "source": [
    "# Original Merge Sort"
   ],
   "metadata": {}
  },
  {
   "cell_type": "code",
   "execution_count": 3,
   "source": [
    "def mergesort(array):\r\n",
    "\r\n",
    "    # If the array only got 1 element \r\n",
    "    if (len(array) > 1):\r\n",
    "        mid = len(array) // 2 \r\n",
    "        left = array[:mid].copy()\r\n",
    "        right = array[mid:].copy()\r\n",
    "\r\n",
    "        mergesort(left)\r\n",
    "        # print(left, right)\r\n",
    "        mergesort(right)\r\n",
    "        \r\n",
    "        merge(array, left, right)\r\n",
    "    \r\n",
    "    return array\r\n",
    "    \r\n",
    "\r\n",
    "def merge(array, left, right):\r\n",
    "    i = j = k = 0\r\n",
    "    \r\n",
    "    # while length of both right and left are not 0 z\r\n",
    "    while(i < len(left) and j < len(right)):\r\n",
    "        # compare first element of the 2 halves \r\n",
    "        if(left[i] < right[j]):\r\n",
    "            array[k] = left[i]                \r\n",
    "            i += 1\r\n",
    "            k += 1\r\n",
    "        else:\r\n",
    "            array[k] = right[j]\r\n",
    "            j += 1\r\n",
    "            k += 1 \r\n",
    "\r\n",
    "    # If there are still remaining elements in either half \r\n",
    "    while (i < len(left)):\r\n",
    "        array[k] = left[i]\r\n",
    "        i += 1\r\n",
    "        k += 1\r\n",
    "\r\n",
    "    while (j < len(right)):\r\n",
    "        array[k] = right[j]\r\n",
    "        k += 1\r\n",
    "        j += 1\r\n",
    "\r\n",
    "    return array"
   ],
   "outputs": [],
   "metadata": {}
  },
  {
   "cell_type": "markdown",
   "source": [
    "# Hybrid Algorithm"
   ],
   "metadata": {}
  },
  {
   "cell_type": "code",
   "execution_count": 4,
   "source": [
    "def hybrid_sort(array, S):\r\n",
    "    if (len(array) <= S):\r\n",
    "        insertion_sort(array)\r\n",
    "    else:\r\n",
    "        mid = len(array) // 2 \r\n",
    "        left = array[:mid].copy()\r\n",
    "        right = array[mid:].copy()\r\n",
    "\r\n",
    "        hybrid_sort(left, S)\r\n",
    "        hybrid_sort(right, S)\r\n",
    "\r\n",
    "        merge(array, left, right)\r\n",
    "        \r\n",
    "    return array "
   ],
   "outputs": [],
   "metadata": {}
  },
  {
   "cell_type": "markdown",
   "source": [
    "# Testing Hybrid Sort and Merge Sort "
   ],
   "metadata": {}
  },
  {
   "cell_type": "markdown",
   "source": [
    "Creating Random Arrays"
   ],
   "metadata": {}
  },
  {
   "cell_type": "code",
   "execution_count": 5,
   "source": [
    "array_test_0 = np.array(np.random.randint(10, size = 10))\r\n",
    "array_correct_0 = np.array(sorted(array_test_0)) # to compare against our implemented algorithms to make sure they work\r\n",
    "\r\n",
    "array_test_1 = np.array(np.random.randint(100, size = 100))\r\n",
    "array_correct_1 = np.array(sorted(array_test_1))\r\n",
    "\r\n",
    "array_test_2 = np.array(np.random.randint(1000, size = 1000))\r\n",
    "array_correct_2 = np.array(sorted(array_test_2))\r\n",
    "\r\n",
    "array_test_3 = np.array(np.random.randint(10000, size = 10000))\r\n",
    "array_correct_3 = np.array(sorted(array_test_3))\r\n",
    "\r\n",
    "array_test_4 = np.array(np.random.randint(100000, size = 100000))\r\n",
    "array_correct_4 = np.array(sorted(array_test_4))\r\n",
    "\r\n",
    "array_test_5 = np.array(np.random.randint(1000000, size = 1000000))\r\n",
    "array_correct_5 = np.array(sorted(array_test_5))\r\n",
    "\r\n",
    "# array_test_6 = np.array(np.random.randint(10000000, size = 10000000))\r\n",
    "# array_correct_6 = np.array(sorted(array_test_6))"
   ],
   "outputs": [],
   "metadata": {}
  },
  {
   "cell_type": "markdown",
   "source": [
    "### Testing Hybrid Sort VS Merge Sort \r\n",
    "- For array sizes 10, 100, 1000, 10000"
   ],
   "metadata": {}
  },
  {
   "cell_type": "code",
   "execution_count": 6,
   "source": [
    "for i in range(5):\r\n",
    "    timer = time.perf_counter()\r\n",
    "    test = hybrid_sort(np.copy(eval(f\"array_test_{i}\")), 7)\r\n",
    "    array_size = len(eval(f\"array_test_{i}\"))\r\n",
    "    print(f\"Time to sort array of size {array_size} is {time.perf_counter() - timer} seconds\")\r\n",
    "    if np.array_equal(test, eval(f\"array_correct_{i}\")):\r\n",
    "        print(f\"Hybrid sorted correctly \\n\")\r\n"
   ],
   "outputs": [
    {
     "output_type": "stream",
     "name": "stdout",
     "text": [
      "Time to sort array of size 10 is 0.00021869999999779566 seconds\n",
      "Hybrid sorted correctly \n",
      "\n",
      "Time to sort array of size 100 is 0.0019474000000059277 seconds\n",
      "Hybrid sorted correctly \n",
      "\n",
      "Time to sort array of size 1000 is 0.033027400000001705 seconds\n",
      "Hybrid sorted correctly \n",
      "\n",
      "Time to sort array of size 10000 is 0.19295100000000076 seconds\n",
      "Hybrid sorted correctly \n",
      "\n",
      "Time to sort array of size 100000 is 2.5071315 seconds\n",
      "Hybrid sorted correctly \n",
      "\n"
     ]
    }
   ],
   "metadata": {}
  },
  {
   "cell_type": "code",
   "execution_count": 7,
   "source": [
    "for i in range(5):\r\n",
    "    timer = time.perf_counter()\r\n",
    "    test = mergesort(np.copy(eval(f\"array_test_{i}\")))\r\n",
    "    array_size = len(eval(f\"array_test_{i}\"))\r\n",
    "    print(f\"Time to sort array of size {array_size} is {time.perf_counter() - timer} seconds\")\r\n",
    "    if np.array_equal(test, eval(f\"array_correct_{i}\")):\r\n",
    "        print(f\"Merge sorted correctly \\n\")"
   ],
   "outputs": [
    {
     "output_type": "stream",
     "name": "stdout",
     "text": [
      "Time to sort array of size 10 is 0.001063199999990161 seconds\n",
      "Merge sorted correctly \n",
      "\n",
      "Time to sort array of size 100 is 0.004558399999993412 seconds\n",
      "Merge sorted correctly \n",
      "\n",
      "Time to sort array of size 1000 is 0.05604780000000176 seconds\n",
      "Merge sorted correctly \n",
      "\n",
      "Time to sort array of size 10000 is 0.4456938000000008 seconds\n",
      "Merge sorted correctly \n",
      "\n",
      "Time to sort array of size 100000 is 3.2879345000000058 seconds\n",
      "Merge sorted correctly \n",
      "\n"
     ]
    }
   ],
   "metadata": {}
  },
  {
   "cell_type": "code",
   "execution_count": 11,
   "source": [
    "# Direct Comparison\r\n",
    "\r\n",
    "for i in range(5):\r\n",
    "    timer = time.perf_counter()\r\n",
    "    test = hybrid_sort(np.copy(eval(f\"array_test_{i}\")), 7)\r\n",
    "    array_size = len(eval(f\"array_test_{i}\"))\r\n",
    "    print(f\"Time to sort array of size {array_size} using Hybrid Sort is {time.perf_counter() - timer} seconds\")\r\n",
    "        \r\n",
    "    timer = time.perf_counter()\r\n",
    "    test = mergesort(np.copy(eval(f\"array_test_{i}\")))\r\n",
    "    array_size = len(eval(f\"array_test_{i}\"))\r\n",
    "    print(f\"Time to sort array of size {array_size} using Merge Sort is {time.perf_counter() - timer} seconds\")\r\n",
    "    print()"
   ],
   "outputs": [
    {
     "output_type": "stream",
     "name": "stdout",
     "text": [
      "Time to sort array of size 10 using Hybrid Sort is 0.00027140000000258624 seconds\n",
      "Time to sort array of size 10 using Merge Sort is 0.0006817999999952917 seconds\n",
      "\n",
      "Time to sort array of size 100 using Hybrid Sort is 0.0027623000000005504 seconds\n",
      "Time to sort array of size 100 using Merge Sort is 0.0033976999999936197 seconds\n",
      "\n",
      "Time to sort array of size 1000 using Hybrid Sort is 0.02523720000000651 seconds\n",
      "Time to sort array of size 1000 using Merge Sort is 0.028565200000002733 seconds\n",
      "\n",
      "Time to sort array of size 10000 using Hybrid Sort is 0.30082710000000645 seconds\n",
      "Time to sort array of size 10000 using Merge Sort is 0.31537600000000054 seconds\n",
      "\n",
      "Time to sort array of size 100000 using Hybrid Sort is 1.9389566999999914 seconds\n",
      "Time to sort array of size 100000 using Merge Sort is 2.1542599999999936 seconds\n",
      "\n"
     ]
    }
   ],
   "metadata": {}
  },
  {
   "cell_type": "markdown",
   "source": [
    "### Testing for an array size of 1 million"
   ],
   "metadata": {}
  },
  {
   "cell_type": "code",
   "execution_count": 10,
   "source": [
    "    # timer = time.perf_counter()\r\n",
    "    # test = hybrid_sort(np.copy(array_test_6), 7)\r\n",
    "    # array_size = len(array_test_6)\r\n",
    "    # print(f\"Time to sort array of size {array_size} is {time.perf_counter() - timer} seconds\")\r\n",
    "    # if np.array_equal(test, array_correct_6):\r\n",
    "    #     print(f\"Hybrid sorted correctly\")\r\n",
    "        \r\n",
    "    # timer = time.perf_counter()\r\n",
    "    # test = mergesort(np.copy(array_test_6))\r\n",
    "    # array_size = len(array_test_6)\r\n",
    "    # print(f\"Time to sort array of size {array_size} is {time.perf_counter() - timer} seconds\")\r\n",
    "    # if np.array_equal(test, array_correct_6):\r\n",
    "    #     print(f\"Merge sorted correctly \\n\")"
   ],
   "outputs": [],
   "metadata": {}
  },
  {
   "cell_type": "markdown",
   "source": [
    "### Best, Worst and Avg Case (Taking array size of 1000)\r\n",
    "- Best Case: Already sorted \r\n",
    "- Worst Case: Reverse sorted \r\n",
    "- Avg Case: Randomly generated array"
   ],
   "metadata": {}
  },
  {
   "cell_type": "code",
   "execution_count": 13,
   "source": [
    "# Sample Test Cases (Using Array size of 5000)\r\n",
    "\r\n",
    "# Best Case --> Array already sorted \r\n",
    "avg_case = np.array(np.random.randint(10, size = 5000))\r\n",
    "best_case = np.array(sorted(avg_case))\r\n",
    "worst_case = np.flip(best_case)\r\n",
    "\r\n",
    "\r\n",
    "print(\"==== TESTING BEST CASE ====\")\r\n",
    "\r\n",
    "timer = time.perf_counter()\r\n",
    "test = mergesort(np.copy(best_case))\r\n",
    "print(f\"Time to sort array of size {len(best_case)} is {time.perf_counter() - timer} seconds\")\r\n",
    "if np.array_equal(test, best_case):\r\n",
    "    print(f\"Merge sorted correctly \\n\")\r\n",
    "\r\n",
    "\r\n",
    "timer = time.perf_counter()\r\n",
    "test = hybrid_sort(np.copy(best_case), 7)\r\n",
    "print(f\"Time to sort array of size {len(best_case)} is {time.perf_counter() - timer} seconds\")\r\n",
    "if np.array_equal(test, best_case):\r\n",
    "    print(f\"Hybrid sorted correctly \\n\")\r\n",
    "\r\n",
    "\r\n",
    "print(\"==== TESTING WORST CASE ====\")\r\n",
    "\r\n",
    "\r\n",
    "timer = time.perf_counter()\r\n",
    "test = mergesort(np.copy(worst_case))\r\n",
    "print(f\"Time to sort array of size {len(best_case)} is {time.perf_counter() - timer} seconds\")\r\n",
    "if np.array_equal(test, best_case):\r\n",
    "    print(f\"Merge sorted correctly \\n\")\r\n",
    "\r\n",
    "\r\n",
    "timer = time.perf_counter()\r\n",
    "test = hybrid_sort(np.copy(worst_case), 7)\r\n",
    "print(f\"Time to sort array of size {len(best_case)} is {time.perf_counter() - timer} seconds\")\r\n",
    "if np.array_equal(test, best_case):\r\n",
    "    print(f\"Hybrid sorted correctly \\n\")\r\n",
    "\r\n",
    "\r\n",
    "print(\"==== TESTING AVERAGE CASE ====\")\r\n",
    "\r\n",
    "\r\n",
    "timer = time.perf_counter()\r\n",
    "test = mergesort(np.copy(avg_case))\r\n",
    "print(f\"Time to sort array of size {len(best_case)} is {time.perf_counter() - timer} seconds\")\r\n",
    "if np.array_equal(test, best_case):\r\n",
    "    print(f\"Merge sorted correctly \\n\")\r\n",
    "\r\n",
    "\r\n",
    "timer = time.perf_counter()\r\n",
    "test = hybrid_sort(np.copy(avg_case), 7)\r\n",
    "print(f\"Time to sort array of size {len(best_case)} is {time.perf_counter() - timer} seconds\")\r\n",
    "if np.array_equal(test, best_case):\r\n",
    "    print(f\"Hybrid sorted correctly \\n\")"
   ],
   "outputs": [
    {
     "output_type": "stream",
     "name": "stdout",
     "text": [
      "==== TESTING BEST CASE ====\n",
      "Time to sort array of size 5000 is 0.07821189999998523 seconds\n",
      "Merge sorted correctly \n",
      "\n",
      "Time to sort array of size 5000 is 0.0594520000000216 seconds\n",
      "Hybrid sorted correctly \n",
      "\n",
      "==== TESTING WORST CASE ====\n",
      "Time to sort array of size 5000 is 0.08103730000001974 seconds\n",
      "Merge sorted correctly \n",
      "\n",
      "Time to sort array of size 5000 is 0.0777059000000122 seconds\n",
      "Hybrid sorted correctly \n",
      "\n",
      "==== TESTING AVERAGE CASE ====\n",
      "Time to sort array of size 5000 is 0.08934899999999857 seconds\n",
      "Merge sorted correctly \n",
      "\n",
      "Time to sort array of size 5000 is 0.06173960000000989 seconds\n",
      "Hybrid sorted correctly \n",
      "\n"
     ]
    }
   ],
   "metadata": {}
  },
  {
   "cell_type": "markdown",
   "source": [
    "# Sorting Algorithms with Key Comparisons "
   ],
   "metadata": {}
  },
  {
   "cell_type": "markdown",
   "source": [
    "### Merge Sort with Key Comparisons"
   ],
   "metadata": {}
  },
  {
   "cell_type": "code",
   "execution_count": 14,
   "source": [
    "def merge(left, right):\r\n",
    "    to_return = []\r\n",
    "    i = j = 0\r\n",
    "    left_limit = len(left)\r\n",
    "    right_limit = len(right)\r\n",
    "    comparisons = 0\r\n",
    "\r\n",
    "    while i != left_limit and j != right_limit:\r\n",
    "        if left[0] < right[0]:\r\n",
    "            to_return.append(left[0])\r\n",
    "            left = np.delete(left, 0)\r\n",
    "            i += 1\r\n",
    "        else:\r\n",
    "            to_return.append(right[0])\r\n",
    "            right = np.delete(right, 0)\r\n",
    "            j += 1\r\n",
    "        comparisons += 1\r\n",
    "\r\n",
    "    while i != left_limit and j == right_limit:\r\n",
    "        to_return.append(left[0])\r\n",
    "        left = np.delete(left, 0)\r\n",
    "        i += 1\r\n",
    "\r\n",
    "    while i == left_limit and j != right_limit:\r\n",
    "        to_return.append(right[0])\r\n",
    "        right = np.delete(right, 0)\r\n",
    "        j += 1\r\n",
    "    \r\n",
    "    to_return = np.array(to_return)\r\n",
    "    return to_return, comparisons"
   ],
   "outputs": [],
   "metadata": {}
  },
  {
   "cell_type": "code",
   "execution_count": 15,
   "source": [
    "def mergesort(array):\r\n",
    "    comparisons = 0\r\n",
    "    # recursive step\r\n",
    "    if len(array) == 1:\r\n",
    "        return array, comparisons\r\n",
    "    elif len(array) > 1: \r\n",
    "        mid = len(array)//2\r\n",
    "\r\n",
    "        left = array[:mid]\r\n",
    "        right = array[mid:]\r\n",
    "\r\n",
    "        left, left_comparisons = mergesort(left)\r\n",
    "        right, right_comparisons = mergesort(right)\r\n",
    "\r\n",
    "    to_return, new_comparisons = merge(left, right)\r\n",
    "    comparisons += new_comparisons\r\n",
    "    comparisons += left_comparisons\r\n",
    "    comparisons += right_comparisons\r\n",
    "\r\n",
    "    return to_return, comparisons"
   ],
   "outputs": [],
   "metadata": {}
  },
  {
   "cell_type": "markdown",
   "source": [
    "### Insertion Sort with Key Comparisons"
   ],
   "metadata": {}
  },
  {
   "cell_type": "code",
   "execution_count": 16,
   "source": [
    "def insertion_sort(array):\r\n",
    "    comparisons = 0\r\n",
    "    temp = np.copy(array)\r\n",
    "    for step in range(1, len(temp)):\r\n",
    "        key = temp[step]\r\n",
    "        j = step - 1\r\n",
    "        \r\n",
    "        # Compare key with each element on the left of it until an element smaller than it is found\r\n",
    "        # For descending order, change key<array[j] to key>array[j].        \r\n",
    "        while j >= 0 and key < temp[j]:\r\n",
    "            temp[j + 1] = temp[j]\r\n",
    "            j = j - 1\r\n",
    "            comparisons += 1 # for counting key comparisons\r\n",
    "        \r\n",
    "        # Place key at after the element just smaller than it.\r\n",
    "        temp[j + 1] = key\r\n",
    "    \r\n",
    "    return temp, comparisons"
   ],
   "outputs": [],
   "metadata": {}
  },
  {
   "cell_type": "markdown",
   "source": [
    "### Hybrid Sort with Key Comparisons "
   ],
   "metadata": {}
  },
  {
   "cell_type": "code",
   "execution_count": 17,
   "source": [
    "def hybrid_sort(array, s):\r\n",
    "    comparisons = 0\r\n",
    "    if len(array) <= s:\r\n",
    "        to_return, comparisons = insertion_sort(array)\r\n",
    "        return to_return, comparisons\r\n",
    "    elif len(array) > s:\r\n",
    "        mid = len(array)//2\r\n",
    "\r\n",
    "        left = array[:mid]\r\n",
    "        right = array[mid:]\r\n",
    "\r\n",
    "        left, left_comparisons = hybrid_sort(left, s)\r\n",
    "        right, right_comparisons = hybrid_sort(right, s)\r\n",
    "\r\n",
    "    to_return, new_comparisons = merge(left, right)\r\n",
    "    comparisons += new_comparisons\r\n",
    "    comparisons += right_comparisons\r\n",
    "    comparisons += left_comparisons\r\n",
    "\r\n",
    "    return to_return, comparisons"
   ],
   "outputs": [],
   "metadata": {}
  },
  {
   "cell_type": "markdown",
   "source": [
    "# Finding Optimal S "
   ],
   "metadata": {}
  },
  {
   "cell_type": "code",
   "execution_count": 18,
   "source": [
    "best_s_dictionary = {}"
   ],
   "outputs": [],
   "metadata": {}
  },
  {
   "cell_type": "code",
   "execution_count": 19,
   "source": [
    "array_size = len(array_test_0)\r\n",
    "optimal = math.inf\r\n",
    "best_s = 1\r\n",
    "\r\n",
    "print(f\"Testing Key Comparisons for array size of {array_size}\")\r\n",
    "for S in range(1, 10):\r\n",
    "    # print(f\"S is at value of {S}\")\r\n",
    "    sorted_array, comparisons = hybrid_sort(array_test_0, S)\r\n",
    "    if (np.array_equal(sorted_array, array_correct_0)):\r\n",
    "        if (comparisons <= optimal):\r\n",
    "            best_s = S\r\n",
    "            optimal = comparisons\r\n",
    "        # print(f\"Number of comparisons done: {comparisons}\")\r\n",
    "        # print(\"----------------------------------\")\r\n",
    "\r\n",
    "print(f\"Best S for array of size {array_size} is {best_s} with a total of {optimal} comparisons\")\r\n",
    "best_s_dictionary[array_size] = best_s"
   ],
   "outputs": [
    {
     "output_type": "stream",
     "name": "stdout",
     "text": [
      "Testing Key Comparisons for array size of 10\n",
      "Best S for array of size 10 is 9 with a total of 21 comparisons\n"
     ]
    }
   ],
   "metadata": {}
  },
  {
   "cell_type": "code",
   "execution_count": 21,
   "source": [
    "for i in range(1, 5):\r\n",
    "    array_size = len(eval(f\"array_test_{i}\"))\r\n",
    "    optimal = math.inf\r\n",
    "    best_s = 1\r\n",
    "    \r\n",
    "    print(f\"Testing Key Comparisons for array size of {array_size}\")\r\n",
    "    for S in range(1, 10):\r\n",
    "        # print(f\"S is at value of {S}\")\r\n",
    "        sorted_array, comparisons = hybrid_sort(eval(f\"array_test_{i}\"), S)\r\n",
    "        if (np.array_equal(sorted_array, eval(f\"array_correct_{i}\"))):\r\n",
    "            if (comparisons <= optimal):\r\n",
    "                best_s = S\r\n",
    "                optimal = comparisons\r\n",
    "            # print(f\"Number of comparisons done: {comparisons}\")\r\n",
    "            # print(\"----------------------------------\")\r\n",
    "    \r\n",
    "    print(f\"Best S for array of size {array_size} is {best_s} with a total of {optimal} comparisons\\n\")\r\n",
    "    best_s_dictionary[array_size] = best_s"
   ],
   "outputs": [
    {
     "output_type": "stream",
     "name": "stdout",
     "text": [
      "Testing Key Comparisons for array size of 100\n",
      "Best S for array of size 100 is 5 with a total of 501 comparisons\n",
      "\n",
      "Testing Key Comparisons for array size of 1000\n",
      "Best S for array of size 1000 is 7 with a total of 8246 comparisons\n",
      "\n",
      "Testing Key Comparisons for array size of 10000\n",
      "Best S for array of size 10000 is 8 with a total of 115945 comparisons\n",
      "\n",
      "Testing Key Comparisons for array size of 100000\n",
      "Best S for array of size 100000 is 5 with a total of 1496921 comparisons\n",
      "\n"
     ]
    }
   ],
   "metadata": {}
  },
  {
   "cell_type": "code",
   "execution_count": 22,
   "source": [
    "print(best_s_dictionary)"
   ],
   "outputs": [
    {
     "output_type": "stream",
     "name": "stdout",
     "text": [
      "{10: 9, 100: 5, 1000: 7, 10000: 8, 100000: 5}\n"
     ]
    }
   ],
   "metadata": {}
  },
  {
   "cell_type": "markdown",
   "source": [
    "# Comparing Runtimes Using Optimal S "
   ],
   "metadata": {}
  },
  {
   "cell_type": "code",
   "execution_count": 23,
   "source": [
    "# ALT TO COMPARE RUNTIMES \r\n",
    "runtime_dictionary = {}\r\n",
    "for i in range(5):\r\n",
    "    time_dict = {}\r\n",
    "    array_size = len(eval(f\"array_test_{i}\"))\r\n",
    "\r\n",
    "    # merge sort\r\n",
    "    start = time.perf_counter()\r\n",
    "    test, temp = mergesort(eval(f\"array_test_{i}\"))\r\n",
    "    end = time.perf_counter()\r\n",
    "    merge_time = end - start\r\n",
    "    time_dict[\"merge\"] = merge_time\r\n",
    "    print(f\"Time to mergesort array of size {array_size} is {merge_time:6f} seconds\")\r\n",
    "\r\n",
    "    # hybrid sort\r\n",
    "    start = time.perf_counter()\r\n",
    "    test, temp = hybrid_sort(eval(f\"array_test_{i}\"), best_s_dictionary[array_size])\r\n",
    "    end = time.perf_counter()\r\n",
    "    hybrid_time = end - start\r\n",
    "    time_dict[\"hybrid\"] = hybrid_time\r\n",
    "    print(f\"Time to hybrid sort array of size {array_size} is {hybrid_time:6f} seconds\")\r\n",
    "\r\n",
    "    runtime_dictionary[array_size] = time_dict\r\n",
    "    print(\"---------------------------------------------------------------------\")"
   ],
   "outputs": [
    {
     "output_type": "stream",
     "name": "stdout",
     "text": [
      "Time to mergesort array of size 10 is 0.001940 seconds\n",
      "Time to hybrid sort array of size 10 is 0.001585 seconds\n",
      "---------------------------------------------------------------------\n",
      "Time to mergesort array of size 100 is 0.021178 seconds\n",
      "Time to hybrid sort array of size 100 is 0.014168 seconds\n",
      "---------------------------------------------------------------------\n",
      "Time to mergesort array of size 1000 is 0.194820 seconds\n",
      "Time to hybrid sort array of size 1000 is 0.129614 seconds\n",
      "---------------------------------------------------------------------\n",
      "Time to mergesort array of size 10000 is 2.217537 seconds\n",
      "Time to hybrid sort array of size 10000 is 1.809267 seconds\n",
      "---------------------------------------------------------------------\n",
      "Time to mergesort array of size 100000 is 34.673797 seconds\n",
      "Time to hybrid sort array of size 100000 is 32.073660 seconds\n",
      "---------------------------------------------------------------------\n"
     ]
    }
   ],
   "metadata": {}
  },
  {
   "cell_type": "code",
   "execution_count": 24,
   "source": [
    "print(runtime_dictionary)"
   ],
   "outputs": [
    {
     "output_type": "stream",
     "name": "stdout",
     "text": [
      "{10: {'merge': 0.001939799999945535, 'hybrid': 0.0015845999998873594}, 100: {'merge': 0.021178199999894787, 'hybrid': 0.0141684999998688}, 1000: {'merge': 0.19481999999993604, 'hybrid': 0.12961399999994683}, 10000: {'merge': 2.217537499999935, 'hybrid': 1.8092666000000008}, 100000: {'merge': 34.6737971, 'hybrid': 32.07366049999996}}\n"
     ]
    }
   ],
   "metadata": {}
  }
 ],
 "metadata": {
  "orig_nbformat": 4,
  "language_info": {
   "name": "python",
   "version": "3.8.5",
   "mimetype": "text/x-python",
   "codemirror_mode": {
    "name": "ipython",
    "version": 3
   },
   "pygments_lexer": "ipython3",
   "nbconvert_exporter": "python",
   "file_extension": ".py"
  },
  "kernelspec": {
   "name": "python3",
   "display_name": "Python 3.8.5 64-bit ('base': conda)"
  },
  "interpreter": {
   "hash": "0f1da08872461da9cd923e1a0d9d82c00724eb9b5cc800c56f8cdbf609820a25"
  }
 },
 "nbformat": 4,
 "nbformat_minor": 2
}