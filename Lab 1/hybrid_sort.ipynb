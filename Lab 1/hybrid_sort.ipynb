{
 "cells": [
  {
   "cell_type": "code",
   "execution_count": 1,
   "source": [
    "\r\n",
    "import time\r\n",
    "import numpy as np \r\n",
    "import random"
   ],
   "outputs": [],
   "metadata": {}
  },
  {
   "cell_type": "code",
   "execution_count": 2,
   "source": [
    "def insertion_sort(array):\r\n",
    "\r\n",
    "    for step in range(1, len(array)):\r\n",
    "        key = array[step]\r\n",
    "        j = step - 1\r\n",
    "        \r\n",
    "        # Compare the element with the ones before it\r\n",
    "        # If it is smaller than the ones before it, then move the larger ones to current position \r\n",
    "        while j >= 0 and key < array[j]:\r\n",
    "            array[j + 1] = array[j]\r\n",
    "            j = j - 1\r\n",
    "        \r\n",
    "        # Once an element smaller than it is found \r\n",
    "        # Place key at after it\r\n",
    "        array[j + 1] = key\r\n",
    "    \r\n",
    "    return array \r\n"
   ],
   "outputs": [],
   "metadata": {}
  },
  {
   "cell_type": "code",
   "execution_count": 3,
   "source": [
    "def mergesort(array):\r\n",
    "\r\n",
    "    # If the array only got 1 element \r\n",
    "    if (len(array) > 1):\r\n",
    "        mid = len(array) // 2 \r\n",
    "        left = array[:mid].copy()\r\n",
    "        right = array[mid:].copy()\r\n",
    "\r\n",
    "        mergesort(left)\r\n",
    "        # print(left, right)\r\n",
    "        mergesort(right)\r\n",
    "        \r\n",
    "        merge(array, left, right)\r\n",
    "    \r\n",
    "    return array\r\n",
    "    \r\n",
    "\r\n",
    "def merge(array, left, right):\r\n",
    "    \r\n",
    "\r\n",
    "    i = j = k = 0\r\n",
    "    \r\n",
    "    # while length of both right and left are not 0 z\r\n",
    "    while(i < len(left) and j < len(right)):\r\n",
    "        # compare first element of the 2 halves \r\n",
    "        if(left[i] < right[j]):\r\n",
    "            array[k] = left[i]                \r\n",
    "            i += 1\r\n",
    "            k += 1\r\n",
    "        else:\r\n",
    "            array[k] = right[j]\r\n",
    "            j += 1\r\n",
    "            k += 1 \r\n",
    "\r\n",
    "    # If there are still remaining elements in either half \r\n",
    "    while (i < len(left)):\r\n",
    "        array[k] = left[i]\r\n",
    "        i += 1\r\n",
    "        k += 1\r\n",
    "\r\n",
    "    while (j < len(right)):\r\n",
    "        array[k] = right[j]\r\n",
    "        k += 1\r\n",
    "        j += 1\r\n",
    "    \r\n",
    "    return array"
   ],
   "outputs": [],
   "metadata": {}
  },
  {
   "cell_type": "code",
   "execution_count": 4,
   "source": [
    "# https://www.geeksforgeeks.org/timsort/\r\n",
    "MIN_MERGE = 32\r\n",
    " \r\n",
    "def calcMinRun(n):\r\n",
    "\r\n",
    "    r = 0\r\n",
    "    while n >= MIN_MERGE:\r\n",
    "        r |= n & 1\r\n",
    "        n >>= 1\r\n",
    "    return n + r"
   ],
   "outputs": [],
   "metadata": {}
  },
  {
   "cell_type": "code",
   "execution_count": 5,
   "source": [
    "def hybrid_sort(array, S):\r\n",
    "    if (len(array) <= S):\r\n",
    "        insertion_sort(array)\r\n",
    "    else:\r\n",
    "        mid = len(array) // 2 \r\n",
    "        left = array[:mid].copy()\r\n",
    "        right = array[mid:].copy()\r\n",
    "\r\n",
    "        mergesort(left)\r\n",
    "        mergesort(right)\r\n",
    "\r\n",
    "        merge(array, left, right)\r\n",
    "\r\n",
    "    return array "
   ],
   "outputs": [],
   "metadata": {}
  },
  {
   "cell_type": "code",
   "execution_count": 6,
   "source": [
    "array_test_0 = np.array(np.random.randint(10, size = 10))\r\n",
    "array_test_0_copy = array_test_0\r\n",
    "array_correct_0 = np.array(sorted(array_test_0)) # to compare against our implemented algorithms to make sure they work\r\n",
    "\r\n",
    "array_test_1 = np.array(np.random.randint(10, size = 100))\r\n",
    "array_test_1_copy = array_test_1\r\n",
    "array_correct_1 = np.array(sorted(array_test_1))\r\n",
    "\r\n",
    "array_test_2 = np.array(np.random.randint(10, size = 1000))\r\n",
    "array_test_2_copy = array_test_2\r\n",
    "array_correct_2 = np.array(sorted(array_test_2))\r\n",
    "\r\n",
    "array_test_3 = np.array(np.random.randint(10, size = 10000))\r\n",
    "array_test_3_copy = array_test_3\r\n",
    "array_correct_3 = np.array(sorted(array_test_3))\r\n",
    "\r\n",
    "array_test_4 = np.array(np.random.randint(10, size = 100000))\r\n",
    "array_test_4_copy = array_test_4\r\n",
    "array_correct_4 = np.array(sorted(array_test_4))\r\n",
    "\r\n",
    "array_test_5 = np.array(np.random.randint(10, size = 1000000))\r\n",
    "array_test_5_copy = array_test_5\r\n",
    "array_correct_5 = np.array(sorted(array_test_5))"
   ],
   "outputs": [],
   "metadata": {}
  },
  {
   "cell_type": "code",
   "execution_count": 9,
   "source": [
    "for i in range(5):\r\n",
    "    S = calcMinRun(len(f\"array_test_{i}\"))\r\n",
    "    print(\"S = \", S)\r\n",
    "    timer = time.perf_counter()\r\n",
    "    test = hybrid_sort(eval(f\"array_test_{i}\"), S)\r\n",
    "    array_size = len(eval(f\"array_test_{i}\"))\r\n",
    "    print(f\"Time to sort array of size {array_size} is {time.perf_counter() - timer} seconds\")\r\n",
    "    if np.array_equal(test, eval(f\"array_correct_{i}\")):\r\n",
    "        print(f\"Hybrid sorted correctly\")\r\n",
    "        \r\n",
    "    timer = time.perf_counter()\r\n",
    "    test = mergesort(eval(f\"array_test_{i}_copy\"))\r\n",
    "    array_size = len(eval(f\"array_test_{i}_copy\"))\r\n",
    "    print(f\"Time to sort array of size {array_size} is {time.perf_counter() - timer} seconds\")\r\n",
    "    if np.array_equal(test, eval(f\"array_correct_{i}\")):\r\n",
    "        print(f\"Merge sorted correctly\")"
   ],
   "outputs": [
    {
     "output_type": "stream",
     "name": "stdout",
     "text": [
      "S =  12\n",
      "Time to sort array of size 10 is 9.100000005446418e-05 seconds\n",
      "Hybrid sorted correctly\n",
      "Time to sort array of size 10 is 0.00016399999998384374 seconds\n",
      "Merge sorted correctly\n",
      "S =  12\n",
      "Time to sort array of size 100 is 0.0010121999999910258 seconds\n",
      "Hybrid sorted correctly\n",
      "Time to sort array of size 100 is 0.0018483999999716616 seconds\n",
      "Merge sorted correctly\n",
      "S =  12\n",
      "Time to sort array of size 1000 is 0.013439000000005308 seconds\n",
      "Hybrid sorted correctly\n",
      "Time to sort array of size 1000 is 0.009065099999986614 seconds\n",
      "Merge sorted correctly\n",
      "S =  12\n",
      "Time to sort array of size 10000 is 0.08597399999996469 seconds\n",
      "Hybrid sorted correctly\n",
      "Time to sort array of size 10000 is 0.07448289999996405 seconds\n",
      "Merge sorted correctly\n",
      "S =  12\n",
      "Time to sort array of size 100000 is 1.0245350000000144 seconds\n",
      "Hybrid sorted correctly\n",
      "Time to sort array of size 100000 is 0.9626311000000101 seconds\n",
      "Merge sorted correctly\n"
     ]
    }
   ],
   "metadata": {}
  }
 ],
 "metadata": {
  "orig_nbformat": 4,
  "language_info": {
   "name": "python",
   "version": "3.8.5",
   "mimetype": "text/x-python",
   "codemirror_mode": {
    "name": "ipython",
    "version": 3
   },
   "pygments_lexer": "ipython3",
   "nbconvert_exporter": "python",
   "file_extension": ".py"
  },
  "kernelspec": {
   "name": "python3",
   "display_name": "Python 3.8.5 64-bit"
  },
  "interpreter": {
   "hash": "0f1da08872461da9cd923e1a0d9d82c00724eb9b5cc800c56f8cdbf609820a25"
  }
 },
 "nbformat": 4,
 "nbformat_minor": 2
}