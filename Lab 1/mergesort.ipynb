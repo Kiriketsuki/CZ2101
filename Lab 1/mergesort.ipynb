{
 "metadata": {
  "language_info": {
   "codemirror_mode": {
    "name": "ipython",
    "version": 3
   },
   "file_extension": ".py",
   "mimetype": "text/x-python",
   "name": "python",
   "nbconvert_exporter": "python",
   "pygments_lexer": "ipython3",
   "version": "3.8.5"
  },
  "orig_nbformat": 4,
  "kernelspec": {
   "name": "python3",
   "display_name": "Python 3.8.5 64-bit ('base': conda)"
  },
  "interpreter": {
   "hash": "c9bbbe4d64e0f0653c5bfb1b2e8b0c61249e8b0a940ba6d3db7c54bb7e4b468b"
  }
 },
 "nbformat": 4,
 "nbformat_minor": 2,
 "cells": [
  {
   "cell_type": "markdown",
   "source": [
    "# Imports"
   ],
   "metadata": {}
  },
  {
   "cell_type": "code",
   "execution_count": 2,
   "source": [
    "import time\r\n",
    "import numpy as np"
   ],
   "outputs": [],
   "metadata": {}
  },
  {
   "cell_type": "markdown",
   "source": [
    "# Test Cases"
   ],
   "metadata": {}
  },
  {
   "cell_type": "code",
   "execution_count": 3,
   "source": [
    "array_test_0 = np.array(np.random.randint(10, size = 10))\r\n",
    "array_correct_0 = np.array(sorted(array_test_0)) # to compare against our implemented algorithms to make sure they work\r\n",
    "\r\n",
    "array_test_1 = np.array(np.random.randint(10, size = 100))\r\n",
    "array_correct_1 = np.array(sorted(array_test_1))\r\n",
    "\r\n",
    "array_test_2 = np.array(np.random.randint(10, size = 1000))\r\n",
    "array_correct_2 = np.array(sorted(array_test_2))\r\n",
    "\r\n",
    "array_test_3 = np.array(np.random.randint(10, size = 10000))\r\n",
    "array_correct_3 = np.array(sorted(array_test_3))\r\n",
    "\r\n",
    "array_test_4 = np.array(np.random.randint(10, size = 100000))\r\n",
    "array_correct_4 = np.array(sorted(array_test_4))\r\n",
    "\r\n",
    "array_test_5 = np.array(np.random.randint(10, size = 1000000))\r\n",
    "array_correct_5 = np.array(sorted(array_test_5))\r\n",
    "\r\n",
    "array_test_6 = np.array(np.random.randint(10, size = 10000000))\r\n",
    "array_correct_6 = np.array(sorted(array_test_6))"
   ],
   "outputs": [],
   "metadata": {}
  },
  {
   "cell_type": "markdown",
   "source": [
    "# Hybrid\n"
   ],
   "metadata": {}
  },
  {
   "cell_type": "code",
   "execution_count": 4,
   "source": [
    "# https://www.geeksforgeeks.org/insertion-sort/ \r\n",
    "def insertion_sort(array):\r\n",
    "\r\n",
    "    for step in range(1, len(array)):\r\n",
    "        key = array[step]\r\n",
    "        j = step - 1\r\n",
    "        \r\n",
    "        # Compare the element with the ones before it\r\n",
    "        # If it is smaller than the ones before it, then move the larger ones to current position \r\n",
    "        while j >= 0 and key < array[j]:\r\n",
    "            array[j + 1] = array[j]\r\n",
    "            j = j - 1\r\n",
    "        \r\n",
    "        # Once an element smaller than it is found \r\n",
    "        # Place key at after it\r\n",
    "        array[j + 1] = key"
   ],
   "outputs": [],
   "metadata": {}
  },
  {
   "cell_type": "code",
   "execution_count": 5,
   "source": [
    "def hybrid_sort(array, s):\r\n",
    "    if len(array) <= s:\r\n",
    "        temp_array = np.copy(array)\r\n",
    "        insertion_sort(temp_array)\r\n",
    "        return temp_array\r\n",
    "    elif len(array) > s:\r\n",
    "        mid = len(array)//2\r\n",
    "\r\n",
    "        left = array[:mid]\r\n",
    "        right = array[mid:]\r\n",
    "\r\n",
    "        left = mergesort(left)\r\n",
    "        right = mergesort(right)\r\n",
    "\r\n",
    "    return merge(left, right)"
   ],
   "outputs": [],
   "metadata": {}
  },
  {
   "cell_type": "markdown",
   "source": [
    "# Original MergeSort"
   ],
   "metadata": {}
  },
  {
   "cell_type": "code",
   "execution_count": 6,
   "source": [
    "def mergesort(array):\r\n",
    "\r\n",
    "    # recursive step\r\n",
    "    if len(array) == 1:\r\n",
    "        return array\r\n",
    "    elif len(array) > 1: \r\n",
    "        mid = len(array)//2\r\n",
    "\r\n",
    "        left = array[:mid]\r\n",
    "        right = array[mid:]\r\n",
    "\r\n",
    "        left = mergesort(left)\r\n",
    "        right = mergesort(right)\r\n",
    "\r\n",
    "    return merge(left, right)"
   ],
   "outputs": [],
   "metadata": {}
  },
  {
   "cell_type": "code",
   "execution_count": 7,
   "source": [
    "def merge(left, right):\r\n",
    "    to_return = []\r\n",
    "    i = j = 0\r\n",
    "    left_limit = len(left)\r\n",
    "    right_limit = len(right)\r\n",
    "\r\n",
    "    while i != left_limit and j != right_limit:\r\n",
    "        if left[0] < right[0]:\r\n",
    "            to_return.append(left[0])\r\n",
    "            left = np.delete(left, 0)\r\n",
    "            i += 1\r\n",
    "        else:\r\n",
    "            to_return.append(right[0])\r\n",
    "            right = np.delete(right, 0)\r\n",
    "            j += 1\r\n",
    "\r\n",
    "    while i != left_limit and j == right_limit:\r\n",
    "        to_return.append(left[0])\r\n",
    "        left = np.delete(left, 0)\r\n",
    "        i += 1\r\n",
    "\r\n",
    "    while i == left_limit and j != right_limit:\r\n",
    "        to_return.append(right[0])\r\n",
    "        right = np.delete(right, 0)\r\n",
    "        j += 1\r\n",
    "    \r\n",
    "    return np.array(to_return)"
   ],
   "outputs": [],
   "metadata": {}
  },
  {
   "cell_type": "markdown",
   "source": [
    "# Testing Hybrid"
   ],
   "metadata": {}
  },
  {
   "cell_type": "markdown",
   "source": [],
   "metadata": {}
  },
  {
   "cell_type": "code",
   "execution_count": 8,
   "source": [
    "timer = time.perf_counter()\r\n",
    "test = hybrid_sort(array_test_6, 3)\r\n",
    "print(f\"Time to sort array of size {len(array_test_6)} is {time.perf_counter() - timer} seconds\")\r\n",
    "if np.array_equal(test, array_correct_6):\r\n",
    " ``    print(f\"Hybrid sorted correctly\")"
   ],
   "outputs": [
    {
     "output_type": "error",
     "ename": "KeyboardInterrupt",
     "evalue": "",
     "traceback": [
      "\u001b[1;31m---------------------------------------------------------------------------\u001b[0m",
      "\u001b[1;31mKeyboardInterrupt\u001b[0m                         Traceback (most recent call last)",
      "\u001b[1;32m<ipython-input-8-5690eaf13f34>\u001b[0m in \u001b[0;36m<module>\u001b[1;34m\u001b[0m\n\u001b[0;32m      1\u001b[0m \u001b[0mtimer\u001b[0m \u001b[1;33m=\u001b[0m \u001b[0mtime\u001b[0m\u001b[1;33m.\u001b[0m\u001b[0mperf_counter\u001b[0m\u001b[1;33m(\u001b[0m\u001b[1;33m)\u001b[0m\u001b[1;33m\u001b[0m\u001b[1;33m\u001b[0m\u001b[0m\n\u001b[1;32m----> 2\u001b[1;33m \u001b[0mtest\u001b[0m \u001b[1;33m=\u001b[0m \u001b[0mhybrid_sort\u001b[0m\u001b[1;33m(\u001b[0m\u001b[0marray_test_6\u001b[0m\u001b[1;33m,\u001b[0m \u001b[1;36m3\u001b[0m\u001b[1;33m)\u001b[0m\u001b[1;33m\u001b[0m\u001b[1;33m\u001b[0m\u001b[0m\n\u001b[0m\u001b[0;32m      3\u001b[0m \u001b[0mprint\u001b[0m\u001b[1;33m(\u001b[0m\u001b[1;34mf\"Time to sort array of size {len(array_test_6)} is {time.perf_counter() - timer} seconds\"\u001b[0m\u001b[1;33m)\u001b[0m\u001b[1;33m\u001b[0m\u001b[1;33m\u001b[0m\u001b[0m\n\u001b[0;32m      4\u001b[0m \u001b[1;32mif\u001b[0m \u001b[0mnp\u001b[0m\u001b[1;33m.\u001b[0m\u001b[0marray_equal\u001b[0m\u001b[1;33m(\u001b[0m\u001b[0mtest\u001b[0m\u001b[1;33m,\u001b[0m \u001b[0marray_correct_6\u001b[0m\u001b[1;33m)\u001b[0m\u001b[1;33m:\u001b[0m\u001b[1;33m\u001b[0m\u001b[1;33m\u001b[0m\u001b[0m\n\u001b[0;32m      5\u001b[0m     \u001b[0mprint\u001b[0m\u001b[1;33m(\u001b[0m\u001b[1;34mf\"Hybrid sorted correctly\"\u001b[0m\u001b[1;33m)\u001b[0m\u001b[1;33m\u001b[0m\u001b[1;33m\u001b[0m\u001b[0m\n",
      "\u001b[1;32m<ipython-input-5-dd1d3b3778f4>\u001b[0m in \u001b[0;36mhybrid_sort\u001b[1;34m(array, s)\u001b[0m\n\u001b[0;32m     10\u001b[0m         \u001b[0mright\u001b[0m \u001b[1;33m=\u001b[0m \u001b[0marray\u001b[0m\u001b[1;33m[\u001b[0m\u001b[0mmid\u001b[0m\u001b[1;33m:\u001b[0m\u001b[1;33m]\u001b[0m\u001b[1;33m\u001b[0m\u001b[1;33m\u001b[0m\u001b[0m\n\u001b[0;32m     11\u001b[0m \u001b[1;33m\u001b[0m\u001b[0m\n\u001b[1;32m---> 12\u001b[1;33m         \u001b[0mleft\u001b[0m \u001b[1;33m=\u001b[0m \u001b[0mmergesort\u001b[0m\u001b[1;33m(\u001b[0m\u001b[0mleft\u001b[0m\u001b[1;33m)\u001b[0m\u001b[1;33m\u001b[0m\u001b[1;33m\u001b[0m\u001b[0m\n\u001b[0m\u001b[0;32m     13\u001b[0m         \u001b[0mright\u001b[0m \u001b[1;33m=\u001b[0m \u001b[0mmergesort\u001b[0m\u001b[1;33m(\u001b[0m\u001b[0mright\u001b[0m\u001b[1;33m)\u001b[0m\u001b[1;33m\u001b[0m\u001b[1;33m\u001b[0m\u001b[0m\n\u001b[0;32m     14\u001b[0m \u001b[1;33m\u001b[0m\u001b[0m\n",
      "\u001b[1;32m<ipython-input-6-bac8a15126b9>\u001b[0m in \u001b[0;36mmergesort\u001b[1;34m(array)\u001b[0m\n\u001b[0;32m     10\u001b[0m         \u001b[0mright\u001b[0m \u001b[1;33m=\u001b[0m \u001b[0marray\u001b[0m\u001b[1;33m[\u001b[0m\u001b[0mmid\u001b[0m\u001b[1;33m:\u001b[0m\u001b[1;33m]\u001b[0m\u001b[1;33m\u001b[0m\u001b[1;33m\u001b[0m\u001b[0m\n\u001b[0;32m     11\u001b[0m \u001b[1;33m\u001b[0m\u001b[0m\n\u001b[1;32m---> 12\u001b[1;33m         \u001b[0mleft\u001b[0m \u001b[1;33m=\u001b[0m \u001b[0mmergesort\u001b[0m\u001b[1;33m(\u001b[0m\u001b[0mleft\u001b[0m\u001b[1;33m)\u001b[0m\u001b[1;33m\u001b[0m\u001b[1;33m\u001b[0m\u001b[0m\n\u001b[0m\u001b[0;32m     13\u001b[0m         \u001b[0mright\u001b[0m \u001b[1;33m=\u001b[0m \u001b[0mmergesort\u001b[0m\u001b[1;33m(\u001b[0m\u001b[0mright\u001b[0m\u001b[1;33m)\u001b[0m\u001b[1;33m\u001b[0m\u001b[1;33m\u001b[0m\u001b[0m\n\u001b[0;32m     14\u001b[0m \u001b[1;33m\u001b[0m\u001b[0m\n",
      "\u001b[1;32m<ipython-input-6-bac8a15126b9>\u001b[0m in \u001b[0;36mmergesort\u001b[1;34m(array)\u001b[0m\n\u001b[0;32m     13\u001b[0m         \u001b[0mright\u001b[0m \u001b[1;33m=\u001b[0m \u001b[0mmergesort\u001b[0m\u001b[1;33m(\u001b[0m\u001b[0mright\u001b[0m\u001b[1;33m)\u001b[0m\u001b[1;33m\u001b[0m\u001b[1;33m\u001b[0m\u001b[0m\n\u001b[0;32m     14\u001b[0m \u001b[1;33m\u001b[0m\u001b[0m\n\u001b[1;32m---> 15\u001b[1;33m     \u001b[1;32mreturn\u001b[0m \u001b[0mmerge\u001b[0m\u001b[1;33m(\u001b[0m\u001b[0mleft\u001b[0m\u001b[1;33m,\u001b[0m \u001b[0mright\u001b[0m\u001b[1;33m)\u001b[0m\u001b[1;33m\u001b[0m\u001b[1;33m\u001b[0m\u001b[0m\n\u001b[0m",
      "\u001b[1;32m<ipython-input-7-ddd55852d0b0>\u001b[0m in \u001b[0;36mmerge\u001b[1;34m(left, right)\u001b[0m\n\u001b[0;32m      8\u001b[0m         \u001b[1;32mif\u001b[0m \u001b[0mleft\u001b[0m\u001b[1;33m[\u001b[0m\u001b[1;36m0\u001b[0m\u001b[1;33m]\u001b[0m \u001b[1;33m<\u001b[0m \u001b[0mright\u001b[0m\u001b[1;33m[\u001b[0m\u001b[1;36m0\u001b[0m\u001b[1;33m]\u001b[0m\u001b[1;33m:\u001b[0m\u001b[1;33m\u001b[0m\u001b[1;33m\u001b[0m\u001b[0m\n\u001b[0;32m      9\u001b[0m             \u001b[0mto_return\u001b[0m\u001b[1;33m.\u001b[0m\u001b[0mappend\u001b[0m\u001b[1;33m(\u001b[0m\u001b[0mleft\u001b[0m\u001b[1;33m[\u001b[0m\u001b[1;36m0\u001b[0m\u001b[1;33m]\u001b[0m\u001b[1;33m)\u001b[0m\u001b[1;33m\u001b[0m\u001b[1;33m\u001b[0m\u001b[0m\n\u001b[1;32m---> 10\u001b[1;33m             \u001b[0mleft\u001b[0m \u001b[1;33m=\u001b[0m \u001b[0mnp\u001b[0m\u001b[1;33m.\u001b[0m\u001b[0mdelete\u001b[0m\u001b[1;33m(\u001b[0m\u001b[0mleft\u001b[0m\u001b[1;33m,\u001b[0m \u001b[1;36m0\u001b[0m\u001b[1;33m)\u001b[0m\u001b[1;33m\u001b[0m\u001b[1;33m\u001b[0m\u001b[0m\n\u001b[0m\u001b[0;32m     11\u001b[0m             \u001b[0mi\u001b[0m \u001b[1;33m+=\u001b[0m \u001b[1;36m1\u001b[0m\u001b[1;33m\u001b[0m\u001b[1;33m\u001b[0m\u001b[0m\n\u001b[0;32m     12\u001b[0m         \u001b[1;32melse\u001b[0m\u001b[1;33m:\u001b[0m\u001b[1;33m\u001b[0m\u001b[1;33m\u001b[0m\u001b[0m\n",
      "\u001b[1;32m<__array_function__ internals>\u001b[0m in \u001b[0;36mdelete\u001b[1;34m(*args, **kwargs)\u001b[0m\n",
      "\u001b[1;32m~\\anaconda3\\lib\\site-packages\\numpy\\lib\\function_base.py\u001b[0m in \u001b[0;36mdelete\u001b[1;34m(arr, obj, axis)\u001b[0m\n\u001b[0;32m   4387\u001b[0m         \u001b[0mslobj2\u001b[0m \u001b[1;33m=\u001b[0m \u001b[1;33m[\u001b[0m\u001b[0mslice\u001b[0m\u001b[1;33m(\u001b[0m\u001b[1;32mNone\u001b[0m\u001b[1;33m)\u001b[0m\u001b[1;33m]\u001b[0m\u001b[1;33m*\u001b[0m\u001b[0mndim\u001b[0m\u001b[1;33m\u001b[0m\u001b[1;33m\u001b[0m\u001b[0m\n\u001b[0;32m   4388\u001b[0m         \u001b[0mslobj2\u001b[0m\u001b[1;33m[\u001b[0m\u001b[0maxis\u001b[0m\u001b[1;33m]\u001b[0m \u001b[1;33m=\u001b[0m \u001b[0mslice\u001b[0m\u001b[1;33m(\u001b[0m\u001b[0mobj\u001b[0m\u001b[1;33m+\u001b[0m\u001b[1;36m1\u001b[0m\u001b[1;33m,\u001b[0m \u001b[1;32mNone\u001b[0m\u001b[1;33m)\u001b[0m\u001b[1;33m\u001b[0m\u001b[1;33m\u001b[0m\u001b[0m\n\u001b[1;32m-> 4389\u001b[1;33m         \u001b[0mnew\u001b[0m\u001b[1;33m[\u001b[0m\u001b[0mtuple\u001b[0m\u001b[1;33m(\u001b[0m\u001b[0mslobj\u001b[0m\u001b[1;33m)\u001b[0m\u001b[1;33m]\u001b[0m \u001b[1;33m=\u001b[0m \u001b[0marr\u001b[0m\u001b[1;33m[\u001b[0m\u001b[0mtuple\u001b[0m\u001b[1;33m(\u001b[0m\u001b[0mslobj2\u001b[0m\u001b[1;33m)\u001b[0m\u001b[1;33m]\u001b[0m\u001b[1;33m\u001b[0m\u001b[1;33m\u001b[0m\u001b[0m\n\u001b[0m\u001b[0;32m   4390\u001b[0m     \u001b[1;32melse\u001b[0m\u001b[1;33m:\u001b[0m\u001b[1;33m\u001b[0m\u001b[1;33m\u001b[0m\u001b[0m\n\u001b[0;32m   4391\u001b[0m         \u001b[0m_obj\u001b[0m \u001b[1;33m=\u001b[0m \u001b[0mobj\u001b[0m\u001b[1;33m\u001b[0m\u001b[1;33m\u001b[0m\u001b[0m\n",
      "\u001b[1;31mKeyboardInterrupt\u001b[0m: "
     ]
    }
   ],
   "metadata": {}
  },
  {
   "cell_type": "code",
   "execution_count": null,
   "source": [
    "for i in range(5):\r\n",
    "    timer = time.perf_counter()\r\n",
    "    test = hybrid_sort(eval(f\"array_test_{i}\"), 7)\r\n",
    "    array_size = len(eval(f\"array_test_{i}\"))\r\n",
    "    print(f\"Time to sort array of size {array_size} is {time.perf_counter() - timer} seconds\")\r\n",
    "    if np.array_equal(test, eval(f\"array_correct_{i}\")):\r\n",
    "        print(f\"Hybrid sorted correctly\")"
   ],
   "outputs": [
    {
     "output_type": "stream",
     "name": "stdout",
     "text": [
      "Time to sort array of size 10 is 0.0004122000000279513 seconds\n",
      "Hybrid sorted correctly\n",
      "Time to sort array of size 100 is 0.006073099999866827 seconds\n",
      "Hybrid sorted correctly\n",
      "Time to sort array of size 1000 is 0.054125599999906626 seconds\n",
      "Hybrid sorted correctly\n",
      "Time to sort array of size 10000 is 0.7427212000000054 seconds\n",
      "Hybrid sorted correctly\n",
      "Time to sort array of size 100000 is 9.862816300000077 seconds\n",
      "Hybrid sorted correctly\n"
     ]
    }
   ],
   "metadata": {}
  },
  {
   "cell_type": "markdown",
   "source": [
    "# Testing insertion sort"
   ],
   "metadata": {}
  },
  {
   "cell_type": "code",
   "execution_count": null,
   "source": [
    "for i in range(5):\r\n",
    "    timer = time.perf_counter()\r\n",
    "    test = insertion_sort(eval(f\"array_test_{i}\"))\r\n",
    "    array_size = len(eval(f\"array_test_{i}\"))\r\n",
    "    print(f\"Time to sort array of size {array_size} is {time.perf_counter() - timer} seconds\")\r\n",
    "    if np.array_equal(test, eval(f\"array_correct_{i}\")):\r\n",
    "        print(f\"Hybrid sorted correctly\")"
   ],
   "outputs": [],
   "metadata": {}
  },
  {
   "cell_type": "markdown",
   "source": [
    "# Testing merge sort"
   ],
   "metadata": {}
  },
  {
   "cell_type": "code",
   "execution_count": null,
   "source": [
    "timer = time.perf_counter()\r\n",
    "test = mergesort(array_test_0)\r\n",
    "print(f\"Time to sort array of size {len(array_test_0)} is {time.perf_counter() - timer} seconds\")\r\n",
    "if np.array_equal(test, array_correct_0):\r\n",
    "    print(f\"Merge sorted correctly\")"
   ],
   "outputs": [],
   "metadata": {}
  },
  {
   "cell_type": "code",
   "execution_count": 9,
   "source": [
    "for i in range(6):\r\n",
    "    timer = time.perf_counter()\r\n",
    "    test = mergesort(eval(f\"array_test_{i}\"))\r\n",
    "    array_size = len(eval(f\"array_test_{i}\"))\r\n",
    "    print(f\"Time to sort array of size {array_size} is {time.perf_counter() - timer} seconds\")\r\n",
    "    if np.array_equal(test, eval(f\"array_correct_{i}\")):\r\n",
    "        print(f\"Merge sorted correctly\")"
   ],
   "outputs": [
    {
     "output_type": "stream",
     "name": "stdout",
     "text": [
      "Time to sort array of size 10 is 0.004982700000255136 seconds\n",
      "Merge sorted correctly\n",
      "Time to sort array of size 100 is 0.01498639999954321 seconds\n",
      "Merge sorted correctly\n",
      "Time to sort array of size 1000 is 0.14587630000096397 seconds\n",
      "Merge sorted correctly\n",
      "Time to sort array of size 10000 is 1.2904030999998213 seconds\n",
      "Merge sorted correctly\n",
      "Time to sort array of size 100000 is 21.558330699999715 seconds\n",
      "Merge sorted correctly\n",
      "Time to sort array of size 1000000 is 611.8403825000005 seconds\n",
      "Merge sorted correctly\n"
     ]
    }
   ],
   "metadata": {}
  },
  {
   "cell_type": "code",
   "execution_count": null,
   "source": [],
   "outputs": [],
   "metadata": {}
  }
 ]
}