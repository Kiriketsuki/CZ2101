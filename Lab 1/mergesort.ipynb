{
 "metadata": {
  "language_info": {
   "codemirror_mode": {
    "name": "ipython",
    "version": 3
   },
   "file_extension": ".py",
   "mimetype": "text/x-python",
   "name": "python",
   "nbconvert_exporter": "python",
   "pygments_lexer": "ipython3",
   "version": "3.8.5"
  },
  "orig_nbformat": 4,
  "kernelspec": {
   "name": "python3",
   "display_name": "Python 3.8.5 64-bit ('base': conda)"
  },
  "interpreter": {
   "hash": "c9bbbe4d64e0f0653c5bfb1b2e8b0c61249e8b0a940ba6d3db7c54bb7e4b468b"
  }
 },
 "nbformat": 4,
 "nbformat_minor": 2,
 "cells": [
  {
   "source": [
    "# Imports"
   ],
   "cell_type": "markdown",
   "metadata": {}
  },
  {
   "cell_type": "code",
   "execution_count": 2,
   "metadata": {},
   "outputs": [],
   "source": [
    "import time\n",
    "import numpy as np"
   ]
  },
  {
   "source": [
    "# Test Cases"
   ],
   "cell_type": "markdown",
   "metadata": {}
  },
  {
   "cell_type": "code",
   "execution_count": 3,
   "metadata": {},
   "outputs": [],
   "source": [
    "array_test_0 = np.array(np.random.randint(10, size = 10))\n",
    "array_correct_0 = np.array(sorted(array_test_0)) # to compare against our implemented algorithms to make sure they work\n",
    "\n",
    "array_test_1 = np.array(np.random.randint(10, size = 100))\n",
    "array_correct_1 = np.array(sorted(array_test_1))\n",
    "\n",
    "array_test_2 = np.array(np.random.randint(10, size = 1000))\n",
    "array_correct_2 = np.array(sorted(array_test_2))\n",
    "\n",
    "array_test_3 = np.array(np.random.randint(10, size = 10000))\n",
    "array_correct_3 = np.array(sorted(array_test_3))\n",
    "\n",
    "array_test_4 = np.array(np.random.randint(10, size = 100000))\n",
    "array_correct_4 = np.array(sorted(array_test_4))\n",
    "\n",
    "array_test_5 = np.array(np.random.randint(10, size = 1000000))\n",
    "array_correct_5 = np.array(sorted(array_test_5))\n",
    "\n",
    "array_test_6 = np.array(np.random.randint(10, size = 10000000))\n",
    "array_correct_6 = np.array(sorted(array_test_6))"
   ]
  },
  {
   "source": [
    "# Hybrid\n"
   ],
   "cell_type": "markdown",
   "metadata": {}
  },
  {
   "source": [
    "def insertion_sort(array):\n",
    "\n",
    "    for step in range(1, len(array)):\n",
    "        key = array[step]\n",
    "        j = step - 1\n",
    "        \n",
    "        # Compare key with each element on the left of it until an element smaller than it is found\n",
    "        # For descending order, change key<array[j] to key>array[j].        \n",
    "        while j >= 0 and key < array[j]:\n",
    "            # print(array)\n",
    "            array[j + 1] = array[j]\n",
    "            j = j - 1\n",
    "        \n",
    "        # Place key at after the element just smaller than it.\n",
    "        array[j + 1] = key"
   ],
   "cell_type": "code",
   "metadata": {},
   "execution_count": 4,
   "outputs": []
  },
  {
   "cell_type": "code",
   "execution_count": 5,
   "metadata": {},
   "outputs": [],
   "source": [
    "def hybrid_sort(array, s):\n",
    "    if len(array) <= s:\n",
    "        temp_array = np.copy(array)\n",
    "        insertion_sort(temp_array)\n",
    "        return temp_array\n",
    "    elif len(array) > s:\n",
    "        mid = len(array)//2\n",
    "\n",
    "        left = array[:mid]\n",
    "        right = array[mid:]\n",
    "\n",
    "        left = mergesort(left)\n",
    "        right = mergesort(right)\n",
    "\n",
    "    return merge(left, right)"
   ]
  },
  {
   "source": [
    "# Original MergeSort"
   ],
   "cell_type": "markdown",
   "metadata": {}
  },
  {
   "cell_type": "code",
   "execution_count": 6,
   "metadata": {},
   "outputs": [],
   "source": [
    "def mergesort(array):\n",
    "\n",
    "    # recursive step\n",
    "    if len(array) == 1:\n",
    "        return array\n",
    "    elif len(array) > 1: \n",
    "        mid = len(array)//2\n",
    "\n",
    "        left = array[:mid]\n",
    "        right = array[mid:]\n",
    "\n",
    "        left = mergesort(left)\n",
    "        right = mergesort(right)\n",
    "\n",
    "    return merge(left, right)"
   ]
  },
  {
   "cell_type": "code",
   "execution_count": 7,
   "metadata": {},
   "outputs": [],
   "source": [
    "def merge(left, right):\n",
    "    to_return = []\n",
    "    i = j = 0\n",
    "    left_limit = len(left)\n",
    "    right_limit = len(right)\n",
    "\n",
    "    while i != left_limit and j != right_limit:\n",
    "        if left[0] < right[0]:\n",
    "            to_return.append(left[0])\n",
    "            left = np.delete(left, 0)\n",
    "            i += 1\n",
    "        else:\n",
    "            to_return.append(right[0])\n",
    "            right = np.delete(right, 0)\n",
    "            j += 1\n",
    "\n",
    "    while i != left_limit and j == right_limit:\n",
    "        to_return.append(left[0])\n",
    "        left = np.delete(left, 0)\n",
    "        i += 1\n",
    "\n",
    "    while i == left_limit and j != right_limit:\n",
    "        to_return.append(right[0])\n",
    "        right = np.delete(right, 0)\n",
    "        j += 1\n",
    "    \n",
    "    return np.array(to_return)"
   ]
  },
  {
   "source": [
    "# Testing Hybrid"
   ],
   "cell_type": "markdown",
   "metadata": {}
  },
  {
   "source": [],
   "cell_type": "markdown",
   "metadata": {}
  },
  {
   "cell_type": "code",
   "execution_count": 17,
   "metadata": {},
   "outputs": [
    {
     "output_type": "stream",
     "name": "stdout",
     "text": [
      "Time to sort array of size 10 is 0.0006819000000177766 seconds\nMerge sorted correctly\n"
     ]
    }
   ],
   "source": [
    "timer = time.perf_counter()\n",
    "test = hybrid_sort(array_test_6, 3)\n",
    "print(f\"Time to sort array of size {len(array_test_6)} is {time.perf_counter() - timer} seconds\")\n",
    "if np.array_equal(test, array_correct_6):\n",
    "    print(f\"Hybrid sorted correctly\")"
   ]
  },
  {
   "cell_type": "code",
   "execution_count": 21,
   "metadata": {},
   "outputs": [
    {
     "output_type": "stream",
     "name": "stdout",
     "text": [
      "Time to sort array of size 10 is 0.0004122000000279513 seconds\n",
      "Hybrid sorted correctly\n",
      "Time to sort array of size 100 is 0.006073099999866827 seconds\n",
      "Hybrid sorted correctly\n",
      "Time to sort array of size 1000 is 0.054125599999906626 seconds\n",
      "Hybrid sorted correctly\n",
      "Time to sort array of size 10000 is 0.7427212000000054 seconds\n",
      "Hybrid sorted correctly\n",
      "Time to sort array of size 100000 is 9.862816300000077 seconds\n",
      "Hybrid sorted correctly\n"
     ]
    }
   ],
   "source": [
    "for i in range(5):\n",
    "    timer = time.perf_counter()\n",
    "    test = hybrid_sort(eval(f\"array_test_{i}\"), 7)\n",
    "    array_size = len(eval(f\"array_test_{i}\"))\n",
    "    print(f\"Time to sort array of size {array_size} is {time.perf_counter() - timer} seconds\")\n",
    "    if np.array_equal(test, eval(f\"array_correct_{i}\")):\n",
    "        print(f\"Hybrid sorted correctly\")"
   ]
  },
  {
   "source": [
    "# Testing insertion sort"
   ],
   "cell_type": "markdown",
   "metadata": {}
  },
  {
   "cell_type": "code",
   "execution_count": null,
   "metadata": {},
   "outputs": [],
   "source": [
    "for i in range(5):\n",
    "    timer = time.perf_counter()\n",
    "    test = insertion_sort(eval(f\"array_test_{i}\"))\n",
    "    array_size = len(eval(f\"array_test_{i}\"))\n",
    "    print(f\"Time to sort array of size {array_size} is {time.perf_counter() - timer} seconds\")\n",
    "    if np.array_equal(test, eval(f\"array_correct_{i}\")):\n",
    "        print(f\"Hybrid sorted correctly\")"
   ]
  },
  {
   "source": [
    "# Testing merge sort"
   ],
   "cell_type": "markdown",
   "metadata": {}
  },
  {
   "cell_type": "code",
   "execution_count": null,
   "metadata": {},
   "outputs": [],
   "source": [
    "timer = time.perf_counter()\n",
    "test = mergesort(array_test_0)\n",
    "print(f\"Time to sort array of size {len(array_test_0)} is {time.perf_counter() - timer} seconds\")\n",
    "if np.array_equal(test, array_correct_0):\n",
    "    print(f\"Merge sorted correctly\")"
   ]
  },
  {
   "cell_type": "code",
   "execution_count": 22,
   "metadata": {},
   "outputs": [
    {
     "output_type": "stream",
     "name": "stdout",
     "text": [
      "Time to sort array of size 10 is 0.0007376000000931526 seconds\n",
      "Merge sorted correctly\n",
      "Time to sort array of size 100 is 0.006099599999970451 seconds\n",
      "Merge sorted correctly\n",
      "Time to sort array of size 1000 is 0.05398609999997461 seconds\n",
      "Merge sorted correctly\n",
      "Time to sort array of size 10000 is 0.7487736000000496 seconds\n",
      "Merge sorted correctly\n",
      "Time to sort array of size 100000 is 9.96908429999985 seconds\n",
      "Merge sorted correctly\n",
      "Time to sort array of size 1000000 is 309.4118951999999 seconds\n",
      "Merge sorted correctly\n"
     ]
    }
   ],
   "source": [
    "for i in range(6):\n",
    "    timer = time.perf_counter()\n",
    "    test = mergesort(eval(f\"array_test_{i}\"))\n",
    "    array_size = len(eval(f\"array_test_{i}\"))\n",
    "    print(f\"Time to sort array of size {array_size} is {time.perf_counter() - timer} seconds\")\n",
    "    if np.array_equal(test, eval(f\"array_correct_{i}\")):\n",
    "        print(f\"Merge sorted correctly\")"
   ]
  },
  {
   "cell_type": "code",
   "execution_count": null,
   "metadata": {},
   "outputs": [],
   "source": []
  }
 ]
}