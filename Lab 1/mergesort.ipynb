{
 "metadata": {
  "language_info": {
   "codemirror_mode": {
    "name": "ipython",
    "version": 3
   },
   "file_extension": ".py",
   "mimetype": "text/x-python",
   "name": "python",
   "nbconvert_exporter": "python",
   "pygments_lexer": "ipython3",
   "version": "3.8.5"
  },
  "orig_nbformat": 4,
  "kernelspec": {
   "name": "python3",
   "display_name": "Python 3.8.5 64-bit"
  },
  "interpreter": {
   "hash": "c9bbbe4d64e0f0653c5bfb1b2e8b0c61249e8b0a940ba6d3db7c54bb7e4b468b"
  }
 },
 "nbformat": 4,
 "nbformat_minor": 2,
 "cells": [
  {
   "cell_type": "markdown",
   "source": [
    "# Imports"
   ],
   "metadata": {}
  },
  {
   "cell_type": "code",
   "execution_count": 45,
   "source": [
    "import time\r\n",
    "import numpy as np\r\n",
    "import functools\r\n",
    "import math"
   ],
   "outputs": [],
   "metadata": {}
  },
  {
   "cell_type": "markdown",
   "source": [
    "# Timer Decorator"
   ],
   "metadata": {}
  },
  {
   "cell_type": "code",
   "execution_count": 2,
   "source": [
    "def timer(func):\r\n",
    "    @functools.wraps(func)\r\n",
    "    def wrapper_timer(*args, **kwargs):\r\n",
    "        start = time.perf_counter()\r\n",
    "        value = func(*args, **kwargs)\r\n",
    "        end = time.perf_counter()\r\n",
    "        elapsed = end - start\r\n",
    "        print(f\"Time taken to run the function: {elapsed} seconds\")\r\n",
    "        return value\r\n",
    "    return wrapper_timer"
   ],
   "outputs": [],
   "metadata": {}
  },
  {
   "cell_type": "markdown",
   "source": [
    "# Test Cases"
   ],
   "metadata": {}
  },
  {
   "cell_type": "code",
   "execution_count": 3,
   "source": [
    "array_test_0 = np.array(np.random.randint(10, size = 10))\r\n",
    "array_correct_0 = np.array(sorted(array_test_0)) # to compare against our implemented algorithms to make sure they work\r\n",
    "\r\n",
    "array_test_1 = np.array(np.random.randint(100, size = 100))\r\n",
    "array_correct_1 = np.array(sorted(array_test_1))\r\n",
    "\r\n",
    "array_test_2 = np.array(np.random.randint(1000, size = 1000))\r\n",
    "array_correct_2 = np.array(sorted(array_test_2))\r\n",
    "\r\n",
    "array_test_3 = np.array(np.random.randint(10000, size = 10000))\r\n",
    "array_correct_3 = np.array(sorted(array_test_3))\r\n",
    "\r\n",
    "array_test_4 = np.array(np.random.randint(100000, size = 100000))\r\n",
    "array_correct_4 = np.array(sorted(array_test_4))\r\n",
    "\r\n",
    "array_test_5 = np.array(np.random.randint(1000000, size = 1000000))\r\n",
    "array_correct_5 = np.array(sorted(array_test_5))\r\n",
    "\r\n",
    "array_test_6 = np.array(np.random.randint(1000000, size = 10000000))\r\n",
    "array_correct_6 = np.array(sorted(array_test_6))"
   ],
   "outputs": [],
   "metadata": {}
  },
  {
   "cell_type": "markdown",
   "source": [
    "# Sorting Algorithms"
   ],
   "metadata": {}
  },
  {
   "cell_type": "markdown",
   "source": [
    "## Insertion Sort"
   ],
   "metadata": {}
  },
  {
   "cell_type": "code",
   "execution_count": 18,
   "source": [
    "# @timer\r\n",
    "def insertion_sort(array):\r\n",
    "    comparisons = 0\r\n",
    "    temp = np.copy(array)\r\n",
    "    for step in range(1, len(temp)):\r\n",
    "        key = temp[step]\r\n",
    "        j = step - 1\r\n",
    "        \r\n",
    "        # Compare key with each element on the left of it until an element smaller than it is found\r\n",
    "        # For descending order, change key<array[j] to key>array[j].        \r\n",
    "        while j >= 0 and key < temp[j]:\r\n",
    "            temp[j + 1] = temp[j]\r\n",
    "            j = j - 1\r\n",
    "            comparisons += 1 # for counting key comparisons\r\n",
    "        \r\n",
    "        # Place key at after the element just smaller than it.\r\n",
    "        temp[j + 1] = key\r\n",
    "    \r\n",
    "    return temp, comparisons"
   ],
   "outputs": [],
   "metadata": {}
  },
  {
   "cell_type": "markdown",
   "source": [
    "## Original MergeSort"
   ],
   "metadata": {}
  },
  {
   "cell_type": "code",
   "execution_count": 33,
   "source": [
    "# @timer\r\n",
    "def mergesort(array):\r\n",
    "    comparisons = 0\r\n",
    "    # recursive step\r\n",
    "    if len(array) == 1:\r\n",
    "        return array, comparisons\r\n",
    "    elif len(array) > 1: \r\n",
    "        mid = len(array)//2\r\n",
    "\r\n",
    "        left = array[:mid]\r\n",
    "        right = array[mid:]\r\n",
    "\r\n",
    "        left, left_comparisons = mergesort(left)\r\n",
    "        right, right_comparisons = mergesort(right)\r\n",
    "\r\n",
    "    to_return, new_comparisons = merge(left, right)\r\n",
    "    comparisons += new_comparisons\r\n",
    "    comparisons += left_comparisons\r\n",
    "    comparisons += right_comparisons\r\n",
    "\r\n",
    "    return to_return, comparisons"
   ],
   "outputs": [],
   "metadata": {}
  },
  {
   "cell_type": "code",
   "execution_count": 6,
   "source": [
    "def merge(left, right):\r\n",
    "    to_return = []\r\n",
    "    i = j = 0\r\n",
    "    left_limit = len(left)\r\n",
    "    right_limit = len(right)\r\n",
    "    comparisons = 0\r\n",
    "\r\n",
    "    while i != left_limit and j != right_limit:\r\n",
    "        if left[0] < right[0]:\r\n",
    "            to_return.append(left[0])\r\n",
    "            left = np.delete(left, 0)\r\n",
    "            i += 1\r\n",
    "        else:\r\n",
    "            to_return.append(right[0])\r\n",
    "            right = np.delete(right, 0)\r\n",
    "            j += 1\r\n",
    "        comparisons += 1\r\n",
    "\r\n",
    "    while i != left_limit and j == right_limit:\r\n",
    "        to_return.append(left[0])\r\n",
    "        left = np.delete(left, 0)\r\n",
    "        i += 1\r\n",
    "\r\n",
    "    while i == left_limit and j != right_limit:\r\n",
    "        to_return.append(right[0])\r\n",
    "        right = np.delete(right, 0)\r\n",
    "        j += 1\r\n",
    "    \r\n",
    "    to_return = np.array(to_return)\r\n",
    "    return to_return, comparisons"
   ],
   "outputs": [],
   "metadata": {}
  },
  {
   "cell_type": "markdown",
   "source": [
    "## Hybrid Sort"
   ],
   "metadata": {}
  },
  {
   "cell_type": "code",
   "execution_count": 36,
   "source": [
    "# @timer\r\n",
    "def hybrid_sort(array, s):\r\n",
    "    comparisons = 0\r\n",
    "    if len(array) <= s:\r\n",
    "        to_return, comparisons = insertion_sort(array)\r\n",
    "        return to_return, comparisons\r\n",
    "    elif len(array) > s:\r\n",
    "        mid = len(array)//2\r\n",
    "\r\n",
    "        left = array[:mid]\r\n",
    "        right = array[mid:]\r\n",
    "\r\n",
    "        left, left_comparisons = hybrid_sort(left, s)\r\n",
    "        right, right_comparisons = hybrid_sort(right, s)\r\n",
    "\r\n",
    "    to_return, new_comparisons = merge(left, right)\r\n",
    "    comparisons += new_comparisons\r\n",
    "    comparisons += right_comparisons\r\n",
    "    comparisons += left_comparisons\r\n",
    "\r\n",
    "    return to_return, comparisons"
   ],
   "outputs": [],
   "metadata": {}
  },
  {
   "cell_type": "markdown",
   "source": [
    "# Counting Key Comparisons"
   ],
   "metadata": {}
  },
  {
   "cell_type": "code",
   "execution_count": 58,
   "source": [
    "best_s_dictionary = {}"
   ],
   "outputs": [],
   "metadata": {}
  },
  {
   "cell_type": "code",
   "execution_count": 60,
   "source": [
    "array_size = len(array_test_0)\r\n",
    "optimal = math.inf\r\n",
    "best_s = 1\r\n",
    "\r\n",
    "print(f\"Testing Key Comparisons for array size of {array_size}\")\r\n",
    "for S in range(1, 10):\r\n",
    "    # print(f\"S is at value of {S}\")\r\n",
    "    sorted_array, comparisons = hybrid_sort(array_test_0, S)\r\n",
    "    if (np.array_equal(sorted_array, array_correct_0)):\r\n",
    "        if (comparisons <= optimal):\r\n",
    "            best_s = S\r\n",
    "            optimal = comparisons\r\n",
    "        # print(f\"Number of comparisons done: {comparisons}\")\r\n",
    "        # print(\"----------------------------------\")\r\n",
    "\r\n",
    "print(f\"Best S for array of size {array_size} is {best_s} with a total of {optimal} comparisons\")\r\n",
    "best_s_dictionary[array_size] = best_s"
   ],
   "outputs": [
    {
     "output_type": "stream",
     "name": "stdout",
     "text": [
      "Testing Key Comparisons for array size of 10\n",
      "Best S for array of size 10 is 4 with a total of 20 comparisons\n"
     ]
    }
   ],
   "metadata": {}
  },
  {
   "cell_type": "code",
   "execution_count": 61,
   "source": [
    "for i in range(1, 6):\r\n",
    "    array_size = len(eval(f\"array_test_{i}\"))\r\n",
    "    optimal = math.inf\r\n",
    "    best_s = 1\r\n",
    "    \r\n",
    "    print(f\"Testing Key Comparisons for array size of {array_size}\")\r\n",
    "    for S in range(1, 10):\r\n",
    "        # print(f\"S is at value of {S}\")\r\n",
    "        sorted_array, comparisons = hybrid_sort(eval(f\"array_test_{i}\"), S)\r\n",
    "        if (np.array_equal(sorted_array, eval(f\"array_correct_{i}\"))):\r\n",
    "            if (comparisons <= optimal):\r\n",
    "                best_s = S\r\n",
    "                optimal = comparisons\r\n",
    "            # print(f\"Number of comparisons done: {comparisons}\")\r\n",
    "            # print(\"----------------------------------\")\r\n",
    "    \r\n",
    "    print(f\"Best S for array of size {array_size} is {best_s} with a total of {optimal} comparisons\")\r\n",
    "    best_s_dictionary[array_size] = best_s"
   ],
   "outputs": [
    {
     "output_type": "stream",
     "name": "stdout",
     "text": [
      "Testing Key Comparisons for array size of 100\n",
      "Best S for array of size 100 is 6 with a total of 502 comparisons\n",
      "Testing Key Comparisons for array size of 1000\n",
      "Best S for array of size 1000 is 6 with a total of 8295 comparisons\n",
      "Testing Key Comparisons for array size of 10000\n",
      "Best S for array of size 10000 is 8 with a total of 116231 comparisons\n",
      "Testing Key Comparisons for array size of 100000\n",
      "Best S for array of size 100000 is 5 with a total of 1497300 comparisons\n",
      "Testing Key Comparisons for array size of 1000000\n",
      "Best S for array of size 1000000 is 6 with a total of 18261032 comparisons\n"
     ]
    }
   ],
   "metadata": {}
  },
  {
   "cell_type": "code",
   "execution_count": 62,
   "source": [
    "print(best_s_dictionary)"
   ],
   "outputs": [
    {
     "output_type": "stream",
     "name": "stdout",
     "text": [
      "{100: 6, 10: 4, 1000: 6, 10000: 8, 100000: 5, 1000000: 6}\n"
     ]
    }
   ],
   "metadata": {}
  },
  {
   "cell_type": "markdown",
   "source": [
    "# Testing Hybrid"
   ],
   "metadata": {}
  },
  {
   "cell_type": "code",
   "execution_count": null,
   "source": [
    "timer = time.perf_counter()\r\n",
    "test, temp = hybrid_sort(array_test_1, 3)\r\n",
    "print(f\"Time to sort array of size {len(array_test_1)} is {time.perf_counter() - timer} seconds\")\r\n",
    "if np.array_equal(test, array_correct_6):\r\n",
    "    print(f\"Hybrid sorted correctly\")"
   ],
   "outputs": [],
   "metadata": {}
  },
  {
   "cell_type": "code",
   "execution_count": 63,
   "source": [
    "for i in range(6):\r\n",
    "    array_size = len(eval(f\"array_test_{i}\"))\r\n",
    "    timer = time.perf_counter()\r\n",
    "    test, temp = hybrid_sort(eval(f\"array_test_{i}\"), best_s_dictionary[array_size])\r\n",
    "    print(f\"Time to sort array of size {array_size} is {time.perf_counter() - timer} seconds\")\r\n",
    "    if np.array_equal(test, eval(f\"array_correct_{i}\")):\r\n",
    "        print(f\"Hybrid sorted correctly\")"
   ],
   "outputs": [
    {
     "output_type": "stream",
     "name": "stdout",
     "text": [
      "Time to sort array of size 10 is 0.0006050000001778244 seconds\n",
      "Hybrid sorted correctly\n",
      "Time to sort array of size 100 is 0.003243500000280619 seconds\n",
      "Hybrid sorted correctly\n",
      "Time to sort array of size 1000 is 0.0459445999995296 seconds\n",
      "Hybrid sorted correctly\n",
      "Time to sort array of size 10000 is 0.6008443000000625 seconds\n",
      "Hybrid sorted correctly\n",
      "Time to sort array of size 100000 is 8.756572100000085 seconds\n",
      "Hybrid sorted correctly\n"
     ]
    }
   ],
   "metadata": {}
  },
  {
   "cell_type": "markdown",
   "source": [
    "# Testing insertion sort"
   ],
   "metadata": {}
  },
  {
   "cell_type": "code",
   "execution_count": null,
   "source": [
    "for i in range(5):\r\n",
    "    array_size = len(eval(f\"array_test_{i}\"))\r\n",
    "    timer = time.perf_counter()\r\n",
    "    test, temp = insertion_sort(eval(f\"array_test_{i}\"))\r\n",
    "    print(f\"Time to sort array of size {array_size} is {time.perf_counter() - timer} seconds\")\r\n",
    "    if np.array_equal(test, eval(f\"array_correct_{i}\")):\r\n",
    "        print(f\"Hybrid sorted correctly\")"
   ],
   "outputs": [],
   "metadata": {}
  },
  {
   "cell_type": "markdown",
   "source": [
    "# Testing merge sort"
   ],
   "metadata": {}
  },
  {
   "cell_type": "code",
   "execution_count": null,
   "source": [
    "timer = time.perf_counter()\r\n",
    "test, temp = mergesort(array_test_0)\r\n",
    "print(f\"Time to sort array of size {len(array_test_0)} is {time.perf_counter() - timer} seconds\")\r\n",
    "if np.array_equal(test, array_correct_0):\r\n",
    "    print(f\"Merge sorted correctly\")"
   ],
   "outputs": [],
   "metadata": {}
  },
  {
   "cell_type": "code",
   "execution_count": 22,
   "source": [
    "for i in range(6):\r\n",
    "    array_size = len(eval(f\"array_test_{i}\"))\r\n",
    "    timer = time.perf_counter()\r\n",
    "    test, temp = mergesort(eval(f\"array_test_{i}\"))\r\n",
    "    print(f\"Time to sort array of size {array_size} is {time.perf_counter() - timer} seconds\")\r\n",
    "    if np.array_equal(test, eval(f\"array_correct_{i}\")):\r\n",
    "        print(f\"Merge sorted correctly\")"
   ],
   "outputs": [
    {
     "output_type": "stream",
     "name": "stdout",
     "text": [
      "Time to sort array of size 10 is 0.0007376000000931526 seconds\n",
      "Merge sorted correctly\n",
      "Time to sort array of size 100 is 0.006099599999970451 seconds\n",
      "Merge sorted correctly\n",
      "Time to sort array of size 1000 is 0.05398609999997461 seconds\n",
      "Merge sorted correctly\n",
      "Time to sort array of size 10000 is 0.7487736000000496 seconds\n",
      "Merge sorted correctly\n",
      "Time to sort array of size 100000 is 9.96908429999985 seconds\n",
      "Merge sorted correctly\n",
      "Time to sort array of size 1000000 is 309.4118951999999 seconds\n",
      "Merge sorted correctly\n"
     ]
    }
   ],
   "metadata": {}
  },
  {
   "cell_type": "markdown",
   "source": [
    "# Direct Comparisons"
   ],
   "metadata": {}
  },
  {
   "cell_type": "code",
   "execution_count": 69,
   "source": [
    "runtime_dictionary = {}\r\n",
    "for i in range(6):\r\n",
    "    time_dict = {}\r\n",
    "    array_size = len(eval(f\"array_test_{i}\"))\r\n",
    "\r\n",
    "    # merge sort\r\n",
    "    start = time.perf_counter()\r\n",
    "    test, temp = mergesort(eval(f\"array_test_{i}\"))\r\n",
    "    end = time.perf_counter()\r\n",
    "    merge_time = end - start\r\n",
    "    time_dict[\"merge\"] = merge_time\r\n",
    "    print(f\"Time to mergesort array of size {array_size} is {merge_time:6f} seconds\")\r\n",
    "\r\n",
    "    # hybrid sort\r\n",
    "    start = time.perf_counter()\r\n",
    "    test, temp = hybrid_sort(eval(f\"array_test_{i}\"), best_s_dictionary[array_size])\r\n",
    "    end = time.perf_counter()\r\n",
    "    hybrid_time = end - start\r\n",
    "    time_dict[\"hybrid\"] = hybrid_time\r\n",
    "    print(f\"Time to hybrid sort array of size {array_size} is {hybrid_time:6f} seconds\")\r\n",
    "\r\n",
    "    runtime_dictionary[array_size] = time_dict\r\n",
    "    print(\"---------------------------------------------------------------------\")"
   ],
   "outputs": [
    {
     "output_type": "stream",
     "name": "stdout",
     "text": [
      "Time to mergesort array of size 10 is 0.000477 seconds\n",
      "Time to hybrid sort array of size 10 is 0.000358 seconds\n",
      "---------------------------------------------------------------------\n",
      "Time to mergesort array of size 100 is 0.004833 seconds\n",
      "Time to hybrid sort array of size 100 is 0.002567 seconds\n",
      "---------------------------------------------------------------------\n",
      "Time to mergesort array of size 1000 is 0.054537 seconds\n",
      "Time to hybrid sort array of size 1000 is 0.043209 seconds\n",
      "---------------------------------------------------------------------\n",
      "Time to mergesort array of size 10000 is 0.752548 seconds\n",
      "Time to hybrid sort array of size 10000 is 0.627456 seconds\n",
      "---------------------------------------------------------------------\n",
      "Time to mergesort array of size 100000 is 9.663834 seconds\n",
      "Time to hybrid sort array of size 100000 is 8.646311 seconds\n",
      "---------------------------------------------------------------------\n",
      "Time to mergesort array of size 1000000 is 305.208492 seconds\n",
      "Time to hybrid sort array of size 1000000 is 288.807089 seconds\n",
      "---------------------------------------------------------------------\n"
     ]
    }
   ],
   "metadata": {}
  },
  {
   "cell_type": "code",
   "execution_count": 70,
   "source": [
    "print(runtime_dictionary)"
   ],
   "outputs": [
    {
     "output_type": "stream",
     "name": "stdout",
     "text": [
      "{10: {'merge': 0.00047670000003563473, 'hybrid': 0.00035819999993691454}, 100: {'merge': 0.004833099999814294, 'hybrid': 0.0025673999998616637}, 1000: {'merge': 0.05453690000013012, 'hybrid': 0.04320929999994405}, 10000: {'merge': 0.7525475000002189, 'hybrid': 0.6274556999997003}, 100000: {'merge': 9.6638339000001, 'hybrid': 8.646310600000106}, 1000000: {'merge': 305.20849180000005, 'hybrid': 288.80708949999917}}\n"
     ]
    }
   ],
   "metadata": {}
  },
  {
   "cell_type": "code",
   "execution_count": null,
   "source": [],
   "outputs": [],
   "metadata": {}
  }
 ]
}