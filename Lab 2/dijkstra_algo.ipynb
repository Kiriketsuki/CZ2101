{
 "cells": [
  {
   "cell_type": "markdown",
   "source": [
    "### Array implementation of Priority Queue"
   ],
   "metadata": {}
  },
  {
   "cell_type": "code",
   "execution_count": 73,
   "source": [
    "# A simple implementation of Priority Queue\r\n",
    "# using Queue.\r\n",
    "class PriorityQueue(object):\r\n",
    "    def __init__(self):\r\n",
    "        self.queue = []\r\n",
    "  \r\n",
    "    def __str__(self):\r\n",
    "        return ' '.join([str(i) for i in self.queue])\r\n",
    "  \r\n",
    "    # for checking if the queue is empty\r\n",
    "    def isEmpty(self):\r\n",
    "        return len(self.queue) == 0\r\n",
    "  \r\n",
    "    # for inserting an element in the queue\r\n",
    "    def insert(self, data):\r\n",
    "        self.queue.append(data)\r\n",
    "  \r\n",
    "    # for popping an element based on Priority\r\n",
    "    def get(self):\r\n",
    "        try:\r\n",
    "            max = 0\r\n",
    "            for i in range(len(self.queue)):\r\n",
    "                if self.queue[i] > self.queue[max]:\r\n",
    "                    max = i\r\n",
    "            item = self.queue[max]\r\n",
    "            del self.queue[max]\r\n",
    "            return item\r\n",
    "        except IndexError:\r\n",
    "            print()\r\n",
    "            exit()\r\n",
    "  \r\n",
    "if __name__ == '__main__':\r\n",
    "    myQueue = PriorityQueue()\r\n",
    "    myQueue.insert(12)\r\n",
    "    myQueue.insert(1)\r\n",
    "    myQueue.insert(14)\r\n",
    "    myQueue.insert(7)\r\n",
    "    print(myQueue)            \r\n",
    "    while not myQueue.isEmpty():\r\n",
    "        print(myQueue.get()) "
   ],
   "outputs": [
    {
     "output_type": "stream",
     "name": "stdout",
     "text": [
      "12 1 14 7\n",
      "14\n",
      "12\n",
      "7\n",
      "1\n"
     ]
    }
   ],
   "metadata": {}
  },
  {
   "cell_type": "markdown",
   "source": [
    "### Graph"
   ],
   "metadata": {}
  },
  {
   "cell_type": "code",
   "execution_count": 57,
   "source": [
    "# Graph Class\r\n",
    "\r\n",
    "class Graph: \r\n",
    "\r\n",
    "    # Constructor \r\n",
    "    def __init__(self, vertices):\r\n",
    "        self.V = vertices # number of vertices \r\n",
    "        self.graph = [[0 for column in range(vertices)] for row in range(vertices)] # creates the matrix \r\n",
    "\r\n",
    "    # Method to add edges \r\n",
    "    def add_edge(self, u, v, dist):\r\n",
    "        self.graph[u][v] = dist\r\n",
    "        self.graph[v][u] = dist\r\n",
    "\r\n",
    "    # determine where to travel to \r\n",
    "    def find_min(self, dist, shortest_path_set):\r\n",
    "        min_dist = float('inf')\r\n",
    "        min_index = 0\r\n",
    "\r\n",
    "        for i in range(self.V):\r\n",
    "            if (dist[i] < min_dist and shortest_path_set[i] == False):\r\n",
    "                min_dist = dist[i]\r\n",
    "                min_index = i \r\n",
    "        return min_index \r\n",
    "\r\n",
    "    # Shortest path algo \r\n",
    "    def dijkstra_shortest_path(self, start): \r\n",
    "        dist = [float('inf')] * self.V\r\n",
    "        pi = []\r\n",
    "        sptSet = [False] * self.V \r\n",
    "        \r\n",
    "        dist[start] = 0\r\n",
    "\r\n",
    "        # Put everything into a priority queue\r\n",
    "\r\n",
    "        for i in range(self.V):\r\n",
    "            # # Where to travel next \r\n",
    "            u = self.find_min(dist, sptSet)\r\n",
    "            sptSet[u] = True \r\n",
    "\r\n",
    "            for neighbour in range(self.V):\r\n",
    "                # If it is a neighbour\r\n",
    "                # and not yet visited \r\n",
    "                if (self.graph[u][neighbour] > 0 and sptSet[neighbour] == False and dist[neighbour] > dist[u] + self.graph[u][neighbour]):\r\n",
    "                    dist[neighbour] = dist[u] + self.graph[u][neighbour]\r\n",
    "                    # print(\"Current: \", u, \"Neighbour: \", neighbour, \"Dist[neighbour] = \", dist[neighbour])\r\n",
    "                    # pi.append(neighbour)\r\n",
    " \r\n",
    "        self.printSolution(dist)\r\n",
    "        # print(pi)\r\n",
    "\r\n",
    "\r\n",
    "    def printSolution(self, dist):\r\n",
    "        print (\"Vertex \\tDistance from Source\")\r\n",
    "        for node in range(self.V):\r\n",
    "            print (node, \"\\t\", dist[node])\r\n",
    "\r\n"
   ],
   "outputs": [],
   "metadata": {}
  },
  {
   "cell_type": "code",
   "execution_count": 58,
   "source": [
    "g = Graph(6)\r\n",
    "g.add_edge(0, 1, 10)\r\n",
    "g.add_edge(0, 2, 2)\r\n",
    "g.add_edge(1, 2, 1)\r\n",
    "g.add_edge(1, 3, 3)\r\n",
    "g.add_edge(2, 3, 2)\r\n",
    "g.add_edge(2, 4, 4)\r\n",
    "g.add_edge(3, 5, 6)\r\n",
    "g.add_edge(4, 5, 2)\r\n",
    "\r\n",
    "\r\n",
    "g.dijkstra_shortest_path(0)"
   ],
   "outputs": [
    {
     "output_type": "stream",
     "name": "stdout",
     "text": [
      "Vertex \tDistance from Source\n",
      "0 \t 0\n",
      "1 \t 3\n",
      "2 \t 2\n",
      "3 \t 4\n",
      "4 \t 6\n",
      "5 \t 8\n"
     ]
    }
   ],
   "metadata": {}
  },
  {
   "cell_type": "code",
   "execution_count": 59,
   "source": [
    "g = Graph(9)\r\n",
    "g.add_edge(0, 1, 4)\r\n",
    "g.add_edge(0, 6, 7)\r\n",
    "g.add_edge(1, 6, 11)\r\n",
    "g.add_edge(1, 7, 20)\r\n",
    "g.add_edge(1, 2, 9)\r\n",
    "g.add_edge(2, 3, 6)\r\n",
    "g.add_edge(2, 4, 2)\r\n",
    "g.add_edge(3, 4, 10)\r\n",
    "g.add_edge(3, 5, 5)\r\n",
    "g.add_edge(4, 5, 15)\r\n",
    "g.add_edge(4, 7, 1)\r\n",
    "g.add_edge(4, 8, 5)\r\n",
    "g.add_edge(5, 8, 12)\r\n",
    "g.add_edge(6, 7, 1)\r\n",
    "g.add_edge(7, 8, 3) \r\n",
    "\r\n",
    "g.dijkstra_shortest_path(0)"
   ],
   "outputs": [
    {
     "output_type": "stream",
     "name": "stdout",
     "text": [
      "Vertex \tDistance from Source\n",
      "0 \t 0\n",
      "1 \t 4\n",
      "2 \t 11\n",
      "3 \t 17\n",
      "4 \t 9\n",
      "5 \t 22\n",
      "6 \t 7\n",
      "7 \t 8\n",
      "8 \t 11\n"
     ]
    }
   ],
   "metadata": {}
  }
 ],
 "metadata": {
  "orig_nbformat": 4,
  "language_info": {
   "name": "python",
   "version": "3.8.5",
   "mimetype": "text/x-python",
   "codemirror_mode": {
    "name": "ipython",
    "version": 3
   },
   "pygments_lexer": "ipython3",
   "nbconvert_exporter": "python",
   "file_extension": ".py"
  },
  "kernelspec": {
   "name": "python3",
   "display_name": "Python 3.8.5 64-bit ('base': conda)"
  },
  "interpreter": {
   "hash": "0f1da08872461da9cd923e1a0d9d82c00724eb9b5cc800c56f8cdbf609820a25"
  }
 },
 "nbformat": 4,
 "nbformat_minor": 2
}