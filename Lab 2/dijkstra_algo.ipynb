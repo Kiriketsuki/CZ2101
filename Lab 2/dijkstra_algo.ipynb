{
 "cells": [
  {
   "cell_type": "code",
   "execution_count": 1,
   "source": [
    "from queue import PriorityQueue\r\n",
    "import heapq"
   ],
   "outputs": [],
   "metadata": {}
  },
  {
   "cell_type": "code",
   "execution_count": 42,
   "source": [
    "# Graph Class\r\n",
    "\r\n",
    "class Graph: \r\n",
    "\r\n",
    "    # Constructor \r\n",
    "    def __init__(self, vertices):\r\n",
    "        self.V = vertices # number of vertices \r\n",
    "        self.graph = [[0 for column in range(vertices)] for row in range(vertices)] # creates the matrix \r\n",
    "\r\n",
    "    def dijkstra_shortest_path(self, start): \r\n",
    "        dist = [float('inf')] * self.V\r\n",
    "        predecessors = []\r\n",
    "        shortest_path_set = [False] * self.V \r\n",
    "\r\n",
    "        # Initialising necessary arrays \r\n",
    "        # for i in range(self.V):\r\n",
    "        #     dist[i] = \r\n",
    "        #     predecessors[i] = 0\r\n",
    "        #     shortest_path_set[i] = False\r\n",
    "        \r\n",
    "        dist[start] = 0 \r\n",
    "        Q = PriorityQueue()\r\n",
    "        Q.put(start)\r\n",
    "\r\n",
    "        while not Q.empty():\r\n",
    "            # # Where to travel next \r\n",
    "            u = Q.get()\r\n",
    "            print(\"U = \", u)\r\n",
    "            shortest_path_set[u] = True \r\n",
    "\r\n",
    "            for neighbour in range(self.V):\r\n",
    "                if (self.graph[u][neighbour] > 0 and shortest_path_set[neighbour] == False and dist[neighbour] > dist[u] + self.graph[u][neighbour]):\r\n",
    "                    dist[neighbour] = dist[u] + self.graph[u][neighbour]\r\n",
    "                    print(\"Neighbour: \", neighbour)\r\n",
    "                    print(\"Dist[neighbour] = \", dist[neighbour])\r\n",
    "\r\n",
    "\r\n",
    "\r\n",
    "\r\n",
    "    def printSolution(self, dist):\r\n",
    "        print (\"Vertex \\tDistance from Source\")\r\n",
    "        for node in range(self.V):\r\n",
    "            print (node, \"\\t\", dist[node])\r\n",
    "\r\n"
   ],
   "outputs": [],
   "metadata": {}
  },
  {
   "cell_type": "code",
   "execution_count": 44,
   "source": [
    "g = Graph(3)\r\n",
    "g.graph = [[0, 2, 3], \r\n",
    "            [0, 0, 0]]\r\n",
    "g.dijkstra_shortest_path(0)"
   ],
   "outputs": [
    {
     "output_type": "stream",
     "name": "stdout",
     "text": [
      "U =  0\n",
      "Neighbour:  1\n",
      "Dist[neighbour] =  2\n",
      "Neighbour:  2\n",
      "Dist[neighbour] =  3\n"
     ]
    }
   ],
   "metadata": {}
  }
 ],
 "metadata": {
  "orig_nbformat": 4,
  "language_info": {
   "name": "python",
   "version": "3.8.5",
   "mimetype": "text/x-python",
   "codemirror_mode": {
    "name": "ipython",
    "version": 3
   },
   "pygments_lexer": "ipython3",
   "nbconvert_exporter": "python",
   "file_extension": ".py"
  },
  "kernelspec": {
   "name": "python3",
   "display_name": "Python 3.8.5 64-bit"
  },
  "interpreter": {
   "hash": "0f1da08872461da9cd923e1a0d9d82c00724eb9b5cc800c56f8cdbf609820a25"
  }
 },
 "nbformat": 4,
 "nbformat_minor": 2
}